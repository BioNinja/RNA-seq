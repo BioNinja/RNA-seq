{
 "cells": [
  {
   "cell_type": "code",
   "execution_count": 1,
   "metadata": {
    "collapsed": false
   },
   "outputs": [],
   "source": [
    "%matplotlib inline\n",
    "import pandas as pd\n",
    "import matplotlib.pyplot as plt\n",
    "import gseapy as gp"
   ]
  },
  {
   "cell_type": "code",
   "execution_count": 2,
   "metadata": {
    "collapsed": true
   },
   "outputs": [],
   "source": [
    "deg = pd.read_csv(\"./Diff_genes_S36_VS_N36.sig.annotated.csv\")"
   ]
  },
  {
   "cell_type": "code",
   "execution_count": 3,
   "metadata": {
    "collapsed": false
   },
   "outputs": [
    {
     "data": {
      "text/html": [
       "<div>\n",
       "<table border=\"1\" class=\"dataframe\">\n",
       "  <thead>\n",
       "    <tr style=\"text-align: right;\">\n",
       "      <th></th>\n",
       "      <th>ENSEMBL</th>\n",
       "      <th>ENTREZID</th>\n",
       "      <th>SYMBOL</th>\n",
       "      <th>GENENAME</th>\n",
       "      <th>baseMean</th>\n",
       "      <th>log2FoldChange</th>\n",
       "      <th>lfcSE</th>\n",
       "      <th>stat</th>\n",
       "      <th>pvalue</th>\n",
       "      <th>padj</th>\n",
       "      <th>up_down</th>\n",
       "    </tr>\n",
       "  </thead>\n",
       "  <tbody>\n",
       "    <tr>\n",
       "      <th>0</th>\n",
       "      <td>ENSG00000111863</td>\n",
       "      <td>84830</td>\n",
       "      <td>ADTRP</td>\n",
       "      <td>androgen dependent TFPI regulating protein</td>\n",
       "      <td>107.210115</td>\n",
       "      <td>3.343302</td>\n",
       "      <td>0.423586</td>\n",
       "      <td>7.892858</td>\n",
       "      <td>2.953430e-15</td>\n",
       "      <td>2.093391e-11</td>\n",
       "      <td>up</td>\n",
       "    </tr>\n",
       "    <tr>\n",
       "      <th>1</th>\n",
       "      <td>ENSG00000224717</td>\n",
       "      <td>284577</td>\n",
       "      <td>LOC284577</td>\n",
       "      <td>uncharacterized LOC284577</td>\n",
       "      <td>53.740090</td>\n",
       "      <td>3.025162</td>\n",
       "      <td>0.434097</td>\n",
       "      <td>6.968865</td>\n",
       "      <td>3.195079e-12</td>\n",
       "      <td>1.132336e-08</td>\n",
       "      <td>up</td>\n",
       "    </tr>\n",
       "    <tr>\n",
       "      <th>2</th>\n",
       "      <td>ENSG00000185267</td>\n",
       "      <td>441549</td>\n",
       "      <td>CDNF</td>\n",
       "      <td>cerebral dopamine neurotrophic factor</td>\n",
       "      <td>57.501496</td>\n",
       "      <td>2.877024</td>\n",
       "      <td>0.429563</td>\n",
       "      <td>6.697565</td>\n",
       "      <td>2.119208e-11</td>\n",
       "      <td>6.008379e-08</td>\n",
       "      <td>up</td>\n",
       "    </tr>\n",
       "    <tr>\n",
       "      <th>3</th>\n",
       "      <td>ENSG00000246339</td>\n",
       "      <td>101929402</td>\n",
       "      <td>EXTL3-AS1</td>\n",
       "      <td>EXTL3 antisense RNA 1</td>\n",
       "      <td>171.171950</td>\n",
       "      <td>2.697945</td>\n",
       "      <td>0.412603</td>\n",
       "      <td>6.538837</td>\n",
       "      <td>6.199897e-11</td>\n",
       "      <td>1.464829e-07</td>\n",
       "      <td>up</td>\n",
       "    </tr>\n",
       "    <tr>\n",
       "      <th>4</th>\n",
       "      <td>ENSG00000036448</td>\n",
       "      <td>9172</td>\n",
       "      <td>MYOM2</td>\n",
       "      <td>myomesin 2</td>\n",
       "      <td>49.153990</td>\n",
       "      <td>2.567367</td>\n",
       "      <td>0.419573</td>\n",
       "      <td>6.118996</td>\n",
       "      <td>9.416658e-10</td>\n",
       "      <td>1.483228e-06</td>\n",
       "      <td>up</td>\n",
       "    </tr>\n",
       "  </tbody>\n",
       "</table>\n",
       "</div>"
      ],
      "text/plain": [
       "           ENSEMBL   ENTREZID     SYMBOL  \\\n",
       "0  ENSG00000111863      84830      ADTRP   \n",
       "1  ENSG00000224717     284577  LOC284577   \n",
       "2  ENSG00000185267     441549       CDNF   \n",
       "3  ENSG00000246339  101929402  EXTL3-AS1   \n",
       "4  ENSG00000036448       9172      MYOM2   \n",
       "\n",
       "                                     GENENAME    baseMean  log2FoldChange  \\\n",
       "0  androgen dependent TFPI regulating protein  107.210115        3.343302   \n",
       "1                   uncharacterized LOC284577   53.740090        3.025162   \n",
       "2       cerebral dopamine neurotrophic factor   57.501496        2.877024   \n",
       "3                       EXTL3 antisense RNA 1  171.171950        2.697945   \n",
       "4                                  myomesin 2   49.153990        2.567367   \n",
       "\n",
       "      lfcSE      stat        pvalue          padj up_down  \n",
       "0  0.423586  7.892858  2.953430e-15  2.093391e-11      up  \n",
       "1  0.434097  6.968865  3.195079e-12  1.132336e-08      up  \n",
       "2  0.429563  6.697565  2.119208e-11  6.008379e-08      up  \n",
       "3  0.412603  6.538837  6.199897e-11  1.464829e-07      up  \n",
       "4  0.419573  6.118996  9.416658e-10  1.483228e-06      up  "
      ]
     },
     "execution_count": 3,
     "metadata": {},
     "output_type": "execute_result"
    }
   ],
   "source": [
    "deg.head()"
   ]
  },
  {
   "cell_type": "code",
   "execution_count": 12,
   "metadata": {
    "collapsed": false
   },
   "outputs": [],
   "source": [
    "deg_all = deg[['SYMBOL', 'padj']]\n",
    "deg_up = deg.ix[ deg.log2FoldChange > 0,['SYMBOL', 'padj']]\n",
    "deg_down = deg.ix[ deg.log2FoldChange < 0,['SYMBOL', 'padj']]"
   ]
  },
  {
   "cell_type": "code",
   "execution_count": 14,
   "metadata": {
    "collapsed": false
   },
   "outputs": [
    {
     "data": {
      "text/html": [
       "<div>\n",
       "<table border=\"1\" class=\"dataframe\">\n",
       "  <thead>\n",
       "    <tr style=\"text-align: right;\">\n",
       "      <th></th>\n",
       "      <th>SYMBOL</th>\n",
       "      <th>padj</th>\n",
       "    </tr>\n",
       "  </thead>\n",
       "  <tbody>\n",
       "    <tr>\n",
       "      <th>0</th>\n",
       "      <td>ADTRP</td>\n",
       "      <td>2.093391e-11</td>\n",
       "    </tr>\n",
       "    <tr>\n",
       "      <th>1</th>\n",
       "      <td>LOC284577</td>\n",
       "      <td>1.132336e-08</td>\n",
       "    </tr>\n",
       "    <tr>\n",
       "      <th>2</th>\n",
       "      <td>CDNF</td>\n",
       "      <td>6.008379e-08</td>\n",
       "    </tr>\n",
       "    <tr>\n",
       "      <th>3</th>\n",
       "      <td>EXTL3-AS1</td>\n",
       "      <td>1.464829e-07</td>\n",
       "    </tr>\n",
       "    <tr>\n",
       "      <th>4</th>\n",
       "      <td>MYOM2</td>\n",
       "      <td>1.483228e-06</td>\n",
       "    </tr>\n",
       "  </tbody>\n",
       "</table>\n",
       "</div>"
      ],
      "text/plain": [
       "      SYMBOL          padj\n",
       "0      ADTRP  2.093391e-11\n",
       "1  LOC284577  1.132336e-08\n",
       "2       CDNF  6.008379e-08\n",
       "3  EXTL3-AS1  1.464829e-07\n",
       "4      MYOM2  1.483228e-06"
      ]
     },
     "execution_count": 14,
     "metadata": {},
     "output_type": "execute_result"
    }
   ],
   "source": [
    "deg_up.head()"
   ]
  },
  {
   "cell_type": "code",
   "execution_count": 22,
   "metadata": {
    "collapsed": true
   },
   "outputs": [],
   "source": [
    "li_all = deg_all.SYMBOL.squeeze().tolist()\n",
    "li_up = deg_up.SYMBOL.squeeze().tolist()\n",
    "li_down = deg_down.SYMBOL.squeeze().tolist()\n",
    "degs_list = [li_all,li_up,li_down]\n",
    "degs_type =['all','up','down']"
   ]
  },
  {
   "cell_type": "code",
   "execution_count": 8,
   "metadata": {
    "collapsed": true
   },
   "outputs": [],
   "source": [
    "names = gp.get_library_name()"
   ]
  },
  {
   "cell_type": "code",
   "execution_count": 4,
   "metadata": {
    "collapsed": true
   },
   "outputs": [],
   "source": [
    "library = ['ENCODE_TF_ChIP-seq_2015','ENCODE_and_ChEA_Consensus_TFs_from_ChIP-X',\n",
    "           'Epigenomics_Roadmap_HM_ChIP-seq','Genome_Browser_PWMs','TRANSFAC_and_JASPAR_PWMs',\n",
    "          'TargetScan_microRNA']"
   ]
  },
  {
   "cell_type": "code",
   "execution_count": 23,
   "metadata": {
    "collapsed": false,
    "scrolled": true
   },
   "outputs": [
    {
     "name": "stderr",
     "output_type": "stream",
     "text": [
      "2017-02-24 21:24:02,598 Connecting to Enrichr Server to get latest library names\n",
      "2017-02-24 21:24:02,600 Analysis name: ENCODE_TF_ChIP-seq_2015, Enrichr Library: ENCODE_TF_ChIP-seq_2015\n",
      "2017-02-24 21:24:04,338 Submitted gene list:{'shortId': '1adtn', 'userListId': 3019037}\n",
      "2017-02-24 21:24:12,945 Downloading file of enrichment results: Job Id:{'shortId': '1adtn', 'userListId': 3019037}\n",
      "2017-02-24 21:24:14,272 Enrichr: You are inside python console, a dataframe is returned.\n",
      "2017-02-24 21:24:14,274 Enrichr: Job Done!\n",
      "2017-02-24 21:24:14,275 Connecting to Enrichr Server to get latest library names\n",
      "2017-02-24 21:24:14,276 Analysis name: ENCODE_TF_ChIP-seq_2015, Enrichr Library: ENCODE_TF_ChIP-seq_2015\n",
      "2017-02-24 21:24:15,475 Submitted gene list:{'shortId': '1adto', 'userListId': 3019038}\n",
      "2017-02-24 21:24:24,416 Downloading file of enrichment results: Job Id:{'shortId': '1adto', 'userListId': 3019038}\n",
      "2017-02-24 21:24:25,615 Enrichr: You are inside python console, a dataframe is returned.\n",
      "2017-02-24 21:24:25,616 Enrichr: Job Done!\n",
      "2017-02-24 21:24:25,617 Connecting to Enrichr Server to get latest library names\n",
      "2017-02-24 21:24:25,618 Analysis name: ENCODE_TF_ChIP-seq_2015, Enrichr Library: ENCODE_TF_ChIP-seq_2015\n",
      "2017-02-24 21:24:26,786 Submitted gene list:{'shortId': '1adtq', 'userListId': 3019040}\n",
      "2017-02-24 21:24:33,555 Downloading file of enrichment results: Job Id:{'shortId': '1adtq', 'userListId': 3019040}\n",
      "2017-02-24 21:24:34,630 Enrichr: You are inside python console, a dataframe is returned.\n",
      "2017-02-24 21:24:34,631 Enrichr: Job Done!\n",
      "2017-02-24 21:24:34,632 Connecting to Enrichr Server to get latest library names\n",
      "2017-02-24 21:24:34,633 Analysis name: ENCODE_and_ChEA_Consensus_TFs_from_ChIP-X, Enrichr Library: ENCODE_and_ChEA_Consensus_TFs_from_ChIP-X\n",
      "2017-02-24 21:24:35,933 Submitted gene list:{'shortId': '1adts', 'userListId': 3019042}\n",
      "2017-02-24 21:24:37,776 Downloading file of enrichment results: Job Id:{'shortId': '1adts', 'userListId': 3019042}\n",
      "2017-02-24 21:24:38,046 Enrichr: You are inside python console, a dataframe is returned.\n",
      "2017-02-24 21:24:38,047 Enrichr: Job Done!\n",
      "2017-02-24 21:24:38,049 Connecting to Enrichr Server to get latest library names\n",
      "2017-02-24 21:24:38,049 Analysis name: ENCODE_and_ChEA_Consensus_TFs_from_ChIP-X, Enrichr Library: ENCODE_and_ChEA_Consensus_TFs_from_ChIP-X\n",
      "2017-02-24 21:24:39,233 Submitted gene list:{'shortId': '1adtt', 'userListId': 3019043}\n",
      "2017-02-24 21:24:41,087 Downloading file of enrichment results: Job Id:{'shortId': '1adtt', 'userListId': 3019043}\n",
      "2017-02-24 21:24:41,356 Enrichr: You are inside python console, a dataframe is returned.\n",
      "2017-02-24 21:24:41,357 Enrichr: Job Done!\n",
      "2017-02-24 21:24:41,358 Connecting to Enrichr Server to get latest library names\n",
      "2017-02-24 21:24:41,359 Analysis name: ENCODE_and_ChEA_Consensus_TFs_from_ChIP-X, Enrichr Library: ENCODE_and_ChEA_Consensus_TFs_from_ChIP-X\n",
      "2017-02-24 21:24:42,497 Submitted gene list:{'shortId': '1adtu', 'userListId': 3019044}\n",
      "2017-02-24 21:24:44,239 Downloading file of enrichment results: Job Id:{'shortId': '1adtu', 'userListId': 3019044}\n",
      "2017-02-24 21:24:44,502 Enrichr: You are inside python console, a dataframe is returned.\n",
      "2017-02-24 21:24:44,502 Enrichr: Job Done!\n",
      "2017-02-24 21:24:44,504 Connecting to Enrichr Server to get latest library names\n",
      "2017-02-24 21:24:44,504 Analysis name: Epigenomics_Roadmap_HM_ChIP-seq, Enrichr Library: Epigenomics_Roadmap_HM_ChIP-seq\n",
      "2017-02-24 21:24:45,780 Submitted gene list:{'shortId': '1adtv', 'userListId': 3019045}\n",
      "2017-02-24 21:24:53,066 Downloading file of enrichment results: Job Id:{'shortId': '1adtv', 'userListId': 3019045}\n",
      "2017-02-24 21:24:54,131 Enrichr: You are inside python console, a dataframe is returned.\n",
      "2017-02-24 21:24:54,132 Enrichr: Job Done!\n",
      "2017-02-24 21:24:54,133 Connecting to Enrichr Server to get latest library names\n",
      "2017-02-24 21:24:54,134 Analysis name: Epigenomics_Roadmap_HM_ChIP-seq, Enrichr Library: Epigenomics_Roadmap_HM_ChIP-seq\n",
      "2017-02-24 21:24:55,299 Submitted gene list:{'shortId': '1adu2', 'userListId': 3019052}\n",
      "2017-02-24 21:25:02,550 Downloading file of enrichment results: Job Id:{'shortId': '1adu2', 'userListId': 3019052}\n",
      "2017-02-24 21:25:03,609 Enrichr: You are inside python console, a dataframe is returned.\n",
      "2017-02-24 21:25:03,610 Enrichr: Job Done!\n",
      "2017-02-24 21:25:03,611 Connecting to Enrichr Server to get latest library names\n",
      "2017-02-24 21:25:03,612 Analysis name: Epigenomics_Roadmap_HM_ChIP-seq, Enrichr Library: Epigenomics_Roadmap_HM_ChIP-seq\n",
      "2017-02-24 21:25:04,757 Submitted gene list:{'shortId': '1adu7', 'userListId': 3019057}\n",
      "2017-02-24 21:25:11,100 Downloading file of enrichment results: Job Id:{'shortId': '1adu7', 'userListId': 3019057}\n",
      "2017-02-24 21:25:12,163 Enrichr: You are inside python console, a dataframe is returned.\n",
      "2017-02-24 21:25:12,163 Enrichr: Job Done!\n",
      "2017-02-24 21:25:12,165 Connecting to Enrichr Server to get latest library names\n",
      "2017-02-24 21:25:12,166 Analysis name: Genome_Browser_PWMs, Enrichr Library: Genome_Browser_PWMs\n",
      "2017-02-24 21:25:13,749 Submitted gene list:{'shortId': '1adua', 'userListId': 3019060}\n",
      "2017-02-24 21:25:17,858 Downloading file of enrichment results: Job Id:{'shortId': '1adua', 'userListId': 3019060}\n",
      "2017-02-24 21:25:19,170 Enrichr: You are inside python console, a dataframe is returned.\n",
      "2017-02-24 21:25:19,170 Enrichr: Job Done!\n",
      "2017-02-24 21:25:19,172 Connecting to Enrichr Server to get latest library names\n",
      "2017-02-24 21:25:19,172 Analysis name: Genome_Browser_PWMs, Enrichr Library: Genome_Browser_PWMs\n",
      "2017-02-24 21:25:21,527 Submitted gene list:{'shortId': '1adub', 'userListId': 3019061}\n",
      "2017-02-24 21:25:25,317 Downloading file of enrichment results: Job Id:{'shortId': '1adub', 'userListId': 3019061}\n",
      "2017-02-24 21:25:26,624 Enrichr: You are inside python console, a dataframe is returned.\n",
      "2017-02-24 21:25:26,625 Enrichr: Job Done!\n",
      "2017-02-24 21:25:26,626 Connecting to Enrichr Server to get latest library names\n",
      "2017-02-24 21:25:26,627 Analysis name: Genome_Browser_PWMs, Enrichr Library: Genome_Browser_PWMs\n",
      "2017-02-24 21:25:27,860 Submitted gene list:{'shortId': '1adud', 'userListId': 3019063}\n",
      "2017-02-24 21:25:32,069 Downloading file of enrichment results: Job Id:{'shortId': '1adud', 'userListId': 3019063}\n",
      "2017-02-24 21:25:34,354 Enrichr: You are inside python console, a dataframe is returned.\n",
      "2017-02-24 21:25:34,355 Enrichr: Job Done!\n",
      "2017-02-24 21:25:34,356 Connecting to Enrichr Server to get latest library names\n",
      "2017-02-24 21:25:34,357 Analysis name: TRANSFAC_and_JASPAR_PWMs, Enrichr Library: TRANSFAC_and_JASPAR_PWMs\n",
      "2017-02-24 21:25:35,679 Submitted gene list:{'shortId': '1adug', 'userListId': 3019066}\n",
      "2017-02-24 21:25:41,474 Downloading file of enrichment results: Job Id:{'shortId': '1adug', 'userListId': 3019066}\n",
      "2017-02-24 21:25:43,578 Enrichr: You are inside python console, a dataframe is returned.\n",
      "2017-02-24 21:25:43,579 Enrichr: Job Done!\n",
      "2017-02-24 21:25:43,580 Connecting to Enrichr Server to get latest library names\n",
      "2017-02-24 21:25:43,581 Analysis name: TRANSFAC_and_JASPAR_PWMs, Enrichr Library: TRANSFAC_and_JASPAR_PWMs\n",
      "2017-02-24 21:25:44,778 Submitted gene list:{'shortId': '1adul', 'userListId': 3019071}\n",
      "2017-02-24 21:25:48,938 Downloading file of enrichment results: Job Id:{'shortId': '1adul', 'userListId': 3019071}\n",
      "2017-02-24 21:25:50,763 Enrichr: You are inside python console, a dataframe is returned.\n",
      "2017-02-24 21:25:50,764 Enrichr: Job Done!\n",
      "2017-02-24 21:25:50,765 Connecting to Enrichr Server to get latest library names\n",
      "2017-02-24 21:25:50,766 Analysis name: TRANSFAC_and_JASPAR_PWMs, Enrichr Library: TRANSFAC_and_JASPAR_PWMs\n",
      "2017-02-24 21:25:51,938 Submitted gene list:{'shortId': '1aduo', 'userListId': 3019074}\n",
      "2017-02-24 21:25:55,625 Downloading file of enrichment results: Job Id:{'shortId': '1aduo', 'userListId': 3019074}\n",
      "2017-02-24 21:25:57,193 Enrichr: You are inside python console, a dataframe is returned.\n",
      "2017-02-24 21:25:57,194 Enrichr: Job Done!\n",
      "2017-02-24 21:25:57,196 Connecting to Enrichr Server to get latest library names\n",
      "2017-02-24 21:25:57,196 Analysis name: TargetScan_microRNA, Enrichr Library: TargetScan_microRNA\n",
      "2017-02-24 21:25:58,469 Submitted gene list:{'shortId': '1aduq', 'userListId': 3019076}\n",
      "2017-02-24 21:26:00,820 Downloading file of enrichment results: Job Id:{'shortId': '1aduq', 'userListId': 3019076}\n",
      "2017-02-24 21:26:01,802 Enrichr: You are inside python console, a dataframe is returned.\n",
      "2017-02-24 21:26:01,802 Enrichr: Job Done!\n",
      "2017-02-24 21:26:01,804 Connecting to Enrichr Server to get latest library names\n",
      "2017-02-24 21:26:01,804 Analysis name: TargetScan_microRNA, Enrichr Library: TargetScan_microRNA\n",
      "2017-02-24 21:26:02,990 Submitted gene list:{'shortId': '1adut', 'userListId': 3019079}\n",
      "2017-02-24 21:26:05,291 Downloading file of enrichment results: Job Id:{'shortId': '1adut', 'userListId': 3019079}\n",
      "2017-02-24 21:26:06,072 Enrichr: You are inside python console, a dataframe is returned.\n",
      "2017-02-24 21:26:06,073 Enrichr: Job Done!\n",
      "2017-02-24 21:26:06,074 Connecting to Enrichr Server to get latest library names\n",
      "2017-02-24 21:26:06,075 Analysis name: TargetScan_microRNA, Enrichr Library: TargetScan_microRNA\n",
      "2017-02-24 21:26:07,263 Submitted gene list:{'shortId': '1aduw', 'userListId': 3019082}\n",
      "2017-02-24 21:26:09,023 Downloading file of enrichment results: Job Id:{'shortId': '1aduw', 'userListId': 3019082}\n",
      "2017-02-24 21:26:09,654 Enrichr: You are inside python console, a dataframe is returned.\n",
      "2017-02-24 21:26:09,655 Enrichr: Job Done!\n"
     ]
    }
   ],
   "source": [
    "for item in library:\n",
    "    for li,ty in zip(degs_list, degs_type):\n",
    "        results = gp.enrichr(gene_list=li, gene_sets=item, \n",
    "                             description=item, outdir='Enrichr_'+item+\"_\"+ty, no_plot=True)"
   ]
  },
  {
   "cell_type": "code",
   "execution_count": 5,
   "metadata": {
    "collapsed": false
   },
   "outputs": [
    {
     "data": {
      "text/html": [
       "<div>\n",
       "<table border=\"1\" class=\"dataframe\">\n",
       "  <thead>\n",
       "    <tr style=\"text-align: right;\">\n",
       "      <th></th>\n",
       "      <th>SYMBOL</th>\n",
       "      <th>log2FoldChange</th>\n",
       "    </tr>\n",
       "  </thead>\n",
       "  <tbody>\n",
       "    <tr>\n",
       "      <th>0</th>\n",
       "      <td>ADTRP</td>\n",
       "      <td>3.343302</td>\n",
       "    </tr>\n",
       "    <tr>\n",
       "      <th>1</th>\n",
       "      <td>LOC284577</td>\n",
       "      <td>3.025162</td>\n",
       "    </tr>\n",
       "    <tr>\n",
       "      <th>2</th>\n",
       "      <td>CDNF</td>\n",
       "      <td>2.877024</td>\n",
       "    </tr>\n",
       "    <tr>\n",
       "      <th>3</th>\n",
       "      <td>EXTL3-AS1</td>\n",
       "      <td>2.697945</td>\n",
       "    </tr>\n",
       "    <tr>\n",
       "      <th>4</th>\n",
       "      <td>MYOM2</td>\n",
       "      <td>2.567367</td>\n",
       "    </tr>\n",
       "  </tbody>\n",
       "</table>\n",
       "</div>"
      ],
      "text/plain": [
       "      SYMBOL  log2FoldChange\n",
       "0      ADTRP        3.343302\n",
       "1  LOC284577        3.025162\n",
       "2       CDNF        2.877024\n",
       "3  EXTL3-AS1        2.697945\n",
       "4      MYOM2        2.567367"
      ]
     },
     "execution_count": 5,
     "metadata": {},
     "output_type": "execute_result"
    }
   ],
   "source": [
    "deg_all = deg[['SYMBOL', 'log2FoldChange']]\n",
    "deg_all.head()"
   ]
  },
  {
   "cell_type": "code",
   "execution_count": 18,
   "metadata": {
    "collapsed": false
   },
   "outputs": [],
   "source": [
    "deg_sort = deg_all.sort_values(by='log2FoldChange',ascending=False)"
   ]
  },
  {
   "cell_type": "code",
   "execution_count": 7,
   "metadata": {
    "collapsed": false
   },
   "outputs": [
    {
     "data": {
      "text/plain": [
       "SYMBOL            False\n",
       "log2FoldChange    False\n",
       "dtype: bool"
      ]
     },
     "execution_count": 7,
     "metadata": {},
     "output_type": "execute_result"
    }
   ],
   "source": [
    "deg_sort.isnull().any()"
   ]
  },
  {
   "cell_type": "code",
   "execution_count": 23,
   "metadata": {
    "collapsed": false
   },
   "outputs": [
    {
     "name": "stderr",
     "output_type": "stream",
     "text": [
      "2017-02-25 10:56:55,791 Parsing data files for GSEA.............................\n",
      "2017-02-25 10:59:13,430 0049 gene_sets used for further statistical testing.....\n",
      "2017-02-25 10:59:13,431 Start to run GSEA...Might take a while..................\n",
      "2017-02-25 10:59:15,894 Start to generate gseapy reports, and produce figures...\n",
      "2017-02-25 10:59:37,842 Congratulations...GSEAPY run successfully...............\n",
      "2017-02-25 10:59:37,844 Parsing data files for GSEA.............................\n",
      "2017-02-25 10:59:56,214 0027 gene_sets used for further statistical testing.....\n",
      "2017-02-25 10:59:56,215 Start to run GSEA...Might take a while..................\n",
      "2017-02-25 10:59:57,599 Start to generate gseapy reports, and produce figures...\n",
      "2017-02-25 11:00:19,534 Congratulations...GSEAPY run successfully...............\n",
      "2017-02-25 11:00:19,536 Parsing data files for GSEA.............................\n",
      "2017-02-25 11:02:55,544 0021 gene_sets used for further statistical testing.....\n",
      "2017-02-25 11:02:55,545 Start to run GSEA...Might take a while..................\n",
      "2017-02-25 11:02:56,721 Start to generate gseapy reports, and produce figures...\n",
      "2017-02-25 11:03:19,852 Congratulations...GSEAPY run successfully...............\n",
      "2017-02-25 11:03:19,854 Parsing data files for GSEA.............................\n",
      "2017-02-25 11:03:38,174 0047 gene_sets used for further statistical testing.....\n",
      "2017-02-25 11:03:38,175 Start to run GSEA...Might take a while..................\n",
      "2017-02-25 11:03:40,607 Start to generate gseapy reports, and produce figures...\n",
      "2017-02-25 11:04:02,452 Congratulations...GSEAPY run successfully...............\n",
      "2017-02-25 11:04:02,455 Parsing data files for GSEA.............................\n",
      "2017-02-25 11:04:28,183 0012 gene_sets used for further statistical testing.....\n",
      "2017-02-25 11:04:28,184 Start to run GSEA...Might take a while..................\n",
      "2017-02-25 11:04:28,819 Start to generate gseapy reports, and produce figures...\n",
      "2017-02-25 11:04:41,879 Congratulations...GSEAPY run successfully...............\n",
      "2017-02-25 11:04:41,881 Parsing data files for GSEA.............................\n",
      "2017-02-25 11:04:45,434 0012 gene_sets used for further statistical testing.....\n",
      "2017-02-25 11:04:45,434 Start to run GSEA...Might take a while..................\n",
      "2017-02-25 11:04:46,214 Start to generate gseapy reports, and produce figures...\n",
      "2017-02-25 11:04:59,529 Congratulations...GSEAPY run successfully...............\n"
     ]
    }
   ],
   "source": [
    "gsea = []\n",
    "deg_sort = deg_all.sort_values('log2FoldChange', ascending=False).reset_index(drop=True)\n",
    "for item in library:\n",
    "    res = gp.prerank(rnk=deg_sort, gene_sets=item, outdir='GSEA_'+item, pheno_pos='S36', pheno_neg='N36',\n",
    "                     min_size=10, max_size=1000,format='png')\n",
    "    gsea.append(res)\n",
    "    "
   ]
  },
  {
   "cell_type": "code",
   "execution_count": 30,
   "metadata": {
    "collapsed": false
   },
   "outputs": [
    {
     "data": {
      "text/html": [
       "<div>\n",
       "<table border=\"1\" class=\"dataframe\">\n",
       "  <thead>\n",
       "    <tr style=\"text-align: right;\">\n",
       "      <th></th>\n",
       "      <th>SYMBOL</th>\n",
       "      <th>log2FoldChange</th>\n",
       "    </tr>\n",
       "  </thead>\n",
       "  <tbody>\n",
       "    <tr>\n",
       "      <th>0</th>\n",
       "      <td>ADTRP</td>\n",
       "      <td>3.343302</td>\n",
       "    </tr>\n",
       "    <tr>\n",
       "      <th>1</th>\n",
       "      <td>LOC284577</td>\n",
       "      <td>3.025162</td>\n",
       "    </tr>\n",
       "    <tr>\n",
       "      <th>2</th>\n",
       "      <td>CDNF</td>\n",
       "      <td>2.877024</td>\n",
       "    </tr>\n",
       "    <tr>\n",
       "      <th>3</th>\n",
       "      <td>EXTL3-AS1</td>\n",
       "      <td>2.697945</td>\n",
       "    </tr>\n",
       "    <tr>\n",
       "      <th>4</th>\n",
       "      <td>MYOM2</td>\n",
       "      <td>2.567367</td>\n",
       "    </tr>\n",
       "  </tbody>\n",
       "</table>\n",
       "</div>"
      ],
      "text/plain": [
       "      SYMBOL  log2FoldChange\n",
       "0      ADTRP        3.343302\n",
       "1  LOC284577        3.025162\n",
       "2       CDNF        2.877024\n",
       "3  EXTL3-AS1        2.697945\n",
       "4      MYOM2        2.567367"
      ]
     },
     "execution_count": 30,
     "metadata": {},
     "output_type": "execute_result"
    }
   ],
   "source": [
    "deg_all.head()"
   ]
  },
  {
   "cell_type": "code",
   "execution_count": 32,
   "metadata": {
    "collapsed": false
   },
   "outputs": [
    {
     "data": {
      "text/html": [
       "<div>\n",
       "<table border=\"1\" class=\"dataframe\">\n",
       "  <thead>\n",
       "    <tr style=\"text-align: right;\">\n",
       "      <th></th>\n",
       "      <th>SYMBOL</th>\n",
       "      <th>log2FoldChange</th>\n",
       "    </tr>\n",
       "  </thead>\n",
       "  <tbody>\n",
       "    <tr>\n",
       "      <th>0</th>\n",
       "      <td>ADTRP</td>\n",
       "      <td>3.343302</td>\n",
       "    </tr>\n",
       "    <tr>\n",
       "      <th>1</th>\n",
       "      <td>LOC284577</td>\n",
       "      <td>3.025162</td>\n",
       "    </tr>\n",
       "    <tr>\n",
       "      <th>2</th>\n",
       "      <td>CDNF</td>\n",
       "      <td>2.877024</td>\n",
       "    </tr>\n",
       "    <tr>\n",
       "      <th>3</th>\n",
       "      <td>EXTL3-AS1</td>\n",
       "      <td>2.697945</td>\n",
       "    </tr>\n",
       "    <tr>\n",
       "      <th>11</th>\n",
       "      <td>LOC100507283</td>\n",
       "      <td>2.637397</td>\n",
       "    </tr>\n",
       "  </tbody>\n",
       "</table>\n",
       "</div>"
      ],
      "text/plain": [
       "          SYMBOL  log2FoldChange\n",
       "0          ADTRP        3.343302\n",
       "1      LOC284577        3.025162\n",
       "2           CDNF        2.877024\n",
       "3      EXTL3-AS1        2.697945\n",
       "11  LOC100507283        2.637397"
      ]
     },
     "execution_count": 32,
     "metadata": {},
     "output_type": "execute_result"
    }
   ],
   "source": [
    "test.head()"
   ]
  },
  {
   "cell_type": "code",
   "execution_count": 9,
   "metadata": {
    "collapsed": true
   },
   "outputs": [],
   "source": [
    "import numpy as np"
   ]
  },
  {
   "cell_type": "code",
   "execution_count": 11,
   "metadata": {
    "collapsed": false
   },
   "outputs": [],
   "source": [
    "x = np.arange(0,len(deg_sort))"
   ]
  },
  {
   "cell_type": "code",
   "execution_count": 21,
   "metadata": {
    "collapsed": false
   },
   "outputs": [
    {
     "data": {
      "text/plain": [
       "<Container object of 429 artists>"
      ]
     },
     "execution_count": 21,
     "metadata": {},
     "output_type": "execute_result"
    },
    {
     "data": {
      "image/png": "[encoded data removed]",
      "text/plain": [
       "<matplotlib.figure.Figure at 0x111e2bb70>"
      ]
     },
     "metadata": {},
     "output_type": "display_data"
    }
   ],
   "source": [
    "plt.bar(left=x,height=deg_sort.log2FoldChange)"
   ]
  },
  {
   "cell_type": "code",
   "execution_count": 22,
   "metadata": {
    "collapsed": false
   },
   "outputs": [
    {
     "data": {
      "text/plain": [
       "<Container object of 429 artists>"
      ]
     },
     "execution_count": 22,
     "metadata": {},
     "output_type": "execute_result"
    },
    {
     "data": {
      "image/png": "[encoded data removed]",
      "text/plain": [
       "<matplotlib.figure.Figure at 0x111df60b8>"
      ]
     },
     "metadata": {},
     "output_type": "display_data"
    }
   ],
   "source": [
    "plt.bar(left=x,height=deg_all.log2FoldChange)"
   ]
  },
  {
   "cell_type": "code",
   "execution_count": 48,
   "metadata": {
    "collapsed": false
   },
   "outputs": [
    {
     "data": {
      "text/html": [
       "<div>\n",
       "<table border=\"1\" class=\"dataframe\">\n",
       "  <thead>\n",
       "    <tr style=\"text-align: right;\">\n",
       "      <th></th>\n",
       "      <th>SYMBOL</th>\n",
       "      <th>log2FoldChange</th>\n",
       "    </tr>\n",
       "  </thead>\n",
       "  <tbody>\n",
       "    <tr>\n",
       "      <th>0</th>\n",
       "      <td>ADTRP</td>\n",
       "      <td>3.343302</td>\n",
       "    </tr>\n",
       "    <tr>\n",
       "      <th>1</th>\n",
       "      <td>LOC284577</td>\n",
       "      <td>3.025162</td>\n",
       "    </tr>\n",
       "    <tr>\n",
       "      <th>2</th>\n",
       "      <td>CDNF</td>\n",
       "      <td>2.877024</td>\n",
       "    </tr>\n",
       "    <tr>\n",
       "      <th>3</th>\n",
       "      <td>EXTL3-AS1</td>\n",
       "      <td>2.697945</td>\n",
       "    </tr>\n",
       "    <tr>\n",
       "      <th>4</th>\n",
       "      <td>MYOM2</td>\n",
       "      <td>2.567367</td>\n",
       "    </tr>\n",
       "  </tbody>\n",
       "</table>\n",
       "</div>"
      ],
      "text/plain": [
       "      SYMBOL  log2FoldChange\n",
       "0      ADTRP        3.343302\n",
       "1  LOC284577        3.025162\n",
       "2       CDNF        2.877024\n",
       "3  EXTL3-AS1        2.697945\n",
       "4      MYOM2        2.567367"
      ]
     },
     "execution_count": 48,
     "metadata": {},
     "output_type": "execute_result"
    }
   ],
   "source": []
  },
  {
   "cell_type": "code",
   "execution_count": 19,
   "metadata": {
    "collapsed": false
   },
   "outputs": [],
   "source": [
    "deg_sort = deg_sort.reset_index(drop=True)"
   ]
  },
  {
   "cell_type": "code",
   "execution_count": 20,
   "metadata": {
    "collapsed": false
   },
   "outputs": [
    {
     "data": {
      "text/html": [
       "<div>\n",
       "<table border=\"1\" class=\"dataframe\">\n",
       "  <thead>\n",
       "    <tr style=\"text-align: right;\">\n",
       "      <th></th>\n",
       "      <th>SYMBOL</th>\n",
       "      <th>log2FoldChange</th>\n",
       "    </tr>\n",
       "  </thead>\n",
       "  <tbody>\n",
       "    <tr>\n",
       "      <th>0</th>\n",
       "      <td>ADTRP</td>\n",
       "      <td>3.343302</td>\n",
       "    </tr>\n",
       "    <tr>\n",
       "      <th>1</th>\n",
       "      <td>LOC284577</td>\n",
       "      <td>3.025162</td>\n",
       "    </tr>\n",
       "    <tr>\n",
       "      <th>2</th>\n",
       "      <td>CDNF</td>\n",
       "      <td>2.877024</td>\n",
       "    </tr>\n",
       "    <tr>\n",
       "      <th>3</th>\n",
       "      <td>EXTL3-AS1</td>\n",
       "      <td>2.697945</td>\n",
       "    </tr>\n",
       "    <tr>\n",
       "      <th>4</th>\n",
       "      <td>LOC100507283</td>\n",
       "      <td>2.637397</td>\n",
       "    </tr>\n",
       "  </tbody>\n",
       "</table>\n",
       "</div>"
      ],
      "text/plain": [
       "         SYMBOL  log2FoldChange\n",
       "0         ADTRP        3.343302\n",
       "1     LOC284577        3.025162\n",
       "2          CDNF        2.877024\n",
       "3     EXTL3-AS1        2.697945\n",
       "4  LOC100507283        2.637397"
      ]
     },
     "execution_count": 20,
     "metadata": {},
     "output_type": "execute_result"
    }
   ],
   "source": [
    "deg_sort.head()"
   ]
  },
  {
   "cell_type": "code",
   "execution_count": null,
   "metadata": {
    "collapsed": true
   },
   "outputs": [],
   "source": []
  }
 ],
 "metadata": {
  "kernelspec": {
   "display_name": "Python [conda env:py3]",
   "language": "python",
   "name": "conda-env-py3-py"
  },
  "language_info": {
   "codemirror_mode": {
    "name": "ipython",
    "version": 3
   },
   "file_extension": ".py",
   "mimetype": "text/x-python",
   "name": "python",
   "nbconvert_exporter": "python",
   "pygments_lexer": "ipython3",
   "version": "3.5.2"
  }
 },
 "nbformat": 4,
 "nbformat_minor": 2
}
