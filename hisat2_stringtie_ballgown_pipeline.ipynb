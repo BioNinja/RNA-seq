{
 "cells": [
  {
   "cell_type": "markdown",
   "metadata": {},
   "source": [
    "# Ballgown pipeline"
   ]
  },
  {
   "cell_type": "code",
   "execution_count": 1,
   "metadata": {
    "collapsed": false
   },
   "outputs": [
    {
     "name": "stderr",
     "output_type": "stream",
     "text": [
      "\n",
      "Attaching package: ‘ballgown’\n",
      "\n",
      "The following object is masked from ‘package:base’:\n",
      "\n",
      "    structure\n",
      "\n"
     ]
    }
   ],
   "source": [
    "library(\"ballgown\")"
   ]
  },
  {
   "cell_type": "code",
   "execution_count": 2,
   "metadata": {
    "collapsed": false
   },
   "outputs": [
    {
     "data": {
      "text/html": [
       "'/Users/bioninja/zll/stringtie_out'"
      ],
      "text/latex": [
       "'/Users/bioninja/zll/stringtie_out'"
      ],
      "text/markdown": [
       "'/Users/bioninja/zll/stringtie_out'"
      ],
      "text/plain": [
       "[1] \"/Users/bioninja/zll/stringtie_out\""
      ]
     },
     "execution_count": 2,
     "metadata": {},
     "output_type": "execute_result"
    }
   ],
   "source": [
    "getwd()"
   ]
  },
  {
   "cell_type": "code",
   "execution_count": 3,
   "metadata": {
    "collapsed": true
   },
   "outputs": [],
   "source": [
    "samples = c('NC','C20_2','C20_3')"
   ]
  },
  {
   "cell_type": "code",
   "execution_count": 5,
   "metadata": {
    "collapsed": false
   },
   "outputs": [
    {
     "name": "stderr",
     "output_type": "stream",
     "text": [
      "Thu Mar 24 09:33:35 2016\n",
      "Thu Mar 24 09:33:35 2016: Reading linking tables\n",
      "Thu Mar 24 09:33:40 2016: Reading intron data files\n",
      "Thu Mar 24 09:33:45 2016: Merging intron data\n",
      "Thu Mar 24 09:33:47 2016: Reading exon data files\n",
      "Thu Mar 24 09:34:03 2016: Merging exon data\n",
      "Thu Mar 24 09:34:06 2016: Reading transcript data files\n",
      "Thu Mar 24 09:34:13 2016: Merging transcript data\n",
      "Wrapping up the results\n",
      "Thu Mar 24 09:34:14 2016\n"
     ]
    }
   ],
   "source": [
    "bg = ballgown(samples = samples, meas='all')"
   ]
  },
  {
   "cell_type": "code",
   "execution_count": 6,
   "metadata": {
    "collapsed": false
   },
   "outputs": [
    {
     "data": {
      "text/plain": [
       "GRanges object with 561339 ranges and 2 metadata columns:\n",
       "           seqnames               ranges strand   |        id transcripts\n",
       "              <Rle>            <IRanges>  <Rle>   | <integer> <character>\n",
       "       [1]     chr1       [11869, 12227]      +   |         1           1\n",
       "       [2]     chr1       [12613, 12721]      +   |         2         1:2\n",
       "       [3]     chr1       [13221, 14409]      +   |         3           1\n",
       "       [4]     chr1       [11872, 12227]      +   |         4           2\n",
       "       [5]     chr1       [13225, 14412]      +   |         5           2\n",
       "       ...      ...                  ...    ... ...       ...         ...\n",
       "  [561335]     chrY [28776794, 28776896]      -   |    561335      196315\n",
       "  [561336]     chrY [28779492, 28779578]      -   |    561336      196315\n",
       "  [561337]     chrY [28780670, 28780799]      -   |    561337      196315\n",
       "  [561338]     chrY [28772667, 28773306]      -   |    561338      196316\n",
       "  [561339]     chrY [59001391, 59001635]      +   |    561339      196317\n",
       "  -------\n",
       "  seqinfo: 24 sequences from an unspecified genome; no seqlengths"
      ]
     },
     "execution_count": 6,
     "metadata": {},
     "output_type": "execute_result"
    }
   ],
   "source": [
    "structure(bg)$exon"
   ]
  },
  {
   "cell_type": "code",
   "execution_count": 7,
   "metadata": {
    "collapsed": false
   },
   "outputs": [
    {
     "data": {
      "text/html": [
       "<ol class=list-inline>\n",
       "\t<li>'NC'</li>\n",
       "\t<li>'C20_2'</li>\n",
       "\t<li>'C20_3'</li>\n",
       "</ol>\n"
      ],
      "text/latex": [
       "\\begin{enumerate*}\n",
       "\\item 'NC'\n",
       "\\item 'C20_2'\n",
       "\\item 'C20_3'\n",
       "\\end{enumerate*}\n"
      ],
      "text/markdown": [
       "1. 'NC'\n",
       "2. 'C20_2'\n",
       "3. 'C20_3'\n",
       "\n",
       "\n"
      ],
      "text/plain": [
       "[1] \"NC\"    \"C20_2\" \"C20_3\""
      ]
     },
     "execution_count": 7,
     "metadata": {},
     "output_type": "execute_result"
    }
   ],
   "source": [
    "sampleNames(bg)"
   ]
  },
  {
   "cell_type": "code",
   "execution_count": 8,
   "metadata": {
    "collapsed": true
   },
   "outputs": [],
   "source": [
    "#transcript_fpkm = texpr(bg, 'FPKM')\n",
    "#transcript_cov = texpr(bg, 'cov')\n",
    "whole_tx_table = texpr(bg, 'all')\n",
    "exon_rcount = eexpr(bg, 'rcount')\n",
    "junction_rcount = iexpr(bg)\n",
    "#whole_intron_table = iexpr(bg, 'all')\n",
    "gene_expression = gexpr(bg)"
   ]
  },
  {
   "cell_type": "code",
   "execution_count": 9,
   "metadata": {
    "collapsed": false
   },
   "outputs": [
    {
     "data": {
      "text/html": [
       "<table>\n",
       "<thead><tr><th></th><th scope=col>FPKM.NC</th><th scope=col>FPKM.C20_2</th><th scope=col>FPKM.C20_3</th></tr></thead>\n",
       "<tbody>\n",
       "\t<tr><th scope=row>ENSG00000000003</th><td> 9.089814</td><td> 7.571029</td><td>14.448894</td></tr>\n",
       "\t<tr><th scope=row>ENSG00000000005</th><td>0.4087701</td><td>0.8183951</td><td>0.8415199</td></tr>\n",
       "\t<tr><th scope=row>ENSG00000000419</th><td>68.81778</td><td>53.67340</td><td>31.49134</td></tr>\n",
       "\t<tr><th scope=row>ENSG00000000457</th><td>1.461249</td><td>1.726169</td><td>1.688894</td></tr>\n",
       "\t<tr><th scope=row>ENSG00000000460</th><td>3.941293</td><td>3.935867</td><td>4.521294</td></tr>\n",
       "\t<tr><th scope=row>ENSG00000000938</th><td>0.037033960</td><td>0.009192504</td><td>0.013318997</td></tr>\n",
       "</tbody>\n",
       "</table>\n"
      ],
      "text/latex": [
       "\\begin{tabular}{r|lll}\n",
       "  & FPKM.NC & FPKM.C20_2 & FPKM.C20_3\\\\\n",
       "\\hline\n",
       "\tENSG00000000003 &  9.089814 &  7.571029 & 14.448894\\\\\n",
       "\tENSG00000000005 & 0.4087701 & 0.8183951 & 0.8415199\\\\\n",
       "\tENSG00000000419 & 68.81778 & 53.67340 & 31.49134\\\\\n",
       "\tENSG00000000457 & 1.461249 & 1.726169 & 1.688894\\\\\n",
       "\tENSG00000000460 & 3.941293 & 3.935867 & 4.521294\\\\\n",
       "\tENSG00000000938 & 0.037033960 & 0.009192504 & 0.013318997\\\\\n",
       "\\end{tabular}\n"
      ],
      "text/markdown": [
       "1. 9.08981360309973\n",
       "2. 0.408770086335404\n",
       "3. 68.8177763512842\n",
       "4. 1.46124866012216\n",
       "5. 3.94129303541076\n",
       "6. 0.0370339597006333\n",
       "7. 7.57102889925876\n",
       "8. 0.818395136645963\n",
       "9. 53.6734018666114\n",
       "10. 1.7261692526178\n",
       "11. 3.93586662747875\n",
       "12. 0.00919250374208405\n",
       "13. 14.448894143531\n",
       "14. 0.841519916149068\n",
       "15. 31.4913449428335\n",
       "16. 1.68889419735311\n",
       "17. 4.52129446600567\n",
       "18. 0.0133189968336212\n",
       "\n",
       "\n"
      ],
      "text/plain": [
       "                    FPKM.NC   FPKM.C20_2 FPKM.C20_3\n",
       "ENSG00000000003  9.08981360  7.571028899 14.4488941\n",
       "ENSG00000000005  0.40877009  0.818395137  0.8415199\n",
       "ENSG00000000419 68.81777635 53.673401867 31.4913449\n",
       "ENSG00000000457  1.46124866  1.726169253  1.6888942\n",
       "ENSG00000000460  3.94129304  3.935866627  4.5212945\n",
       "ENSG00000000938  0.03703396  0.009192504  0.0133190"
      ]
     },
     "execution_count": 9,
     "metadata": {},
     "output_type": "execute_result"
    }
   ],
   "source": [
    "head(gene_expression)"
   ]
  },
  {
   "cell_type": "code",
   "execution_count": 10,
   "metadata": {
    "collapsed": false
   },
   "outputs": [
    {
     "data": {
      "text/html": [
       "<table>\n",
       "<thead><tr><th></th><th scope=col>t_id</th><th scope=col>chr</th><th scope=col>strand</th><th scope=col>start</th><th scope=col>end</th><th scope=col>t_name</th><th scope=col>num_exons</th><th scope=col>length</th><th scope=col>gene_id</th><th scope=col>gene_name</th><th scope=col>cov.NC</th><th scope=col>FPKM.NC</th><th scope=col>cov.C20_2</th><th scope=col>FPKM.C20_2</th><th scope=col>cov.C20_3</th><th scope=col>FPKM.C20_3</th></tr></thead>\n",
       "<tbody>\n",
       "\t<tr><th scope=row>1</th><td>1</td><td>chr1</td><td>+</td><td>11869</td><td>14409</td><td>ENST00000456328</td><td>3</td><td>1657</td><td>ENSG00000223972</td><td>DDX11L1</td><td>2.951021</td><td>0.338178</td><td>1.862831</td><td>0.277954</td><td>2.358867</td><td>0.363814</td></tr>\n",
       "\t<tr><th scope=row>2</th><td>2</td><td>chr1</td><td>+</td><td>11872</td><td>14412</td><td>ENST00000515242</td><td>3</td><td>1653</td><td>ENSG00000223972</td><td>DDX11L1</td><td>0</td><td>0</td><td>0</td><td>0</td><td>0</td><td>0</td></tr>\n",
       "\t<tr><th scope=row>3</th><td>3</td><td>chr1</td><td>+</td><td>11874</td><td>14409</td><td>ENST00000518655</td><td>4</td><td>1483</td><td>ENSG00000223972</td><td>DDX11L1</td><td>0</td><td>0</td><td>0</td><td>0</td><td>0</td><td>0</td></tr>\n",
       "\t<tr><th scope=row>4</th><td>4</td><td>chr1</td><td>+</td><td>12010</td><td>13670</td><td>ENST00000450305</td><td>6</td><td>632</td><td>ENSG00000223972</td><td>DDX11L1</td><td>0</td><td>0</td><td>0.361802</td><td>0.053985</td><td>0.036347</td><td>0.005606</td></tr>\n",
       "\t<tr><th scope=row>5</th><td>5</td><td>chr1</td><td>-</td><td>14363</td><td>24886</td><td>ENST00000541675</td><td>9</td><td>1416</td><td>ENSG00000227232</td><td>WASH7P</td><td>1.904493</td><td>0.218249</td><td>0.554734</td><td>0.082772</td><td>2.340541</td><td>0.360988</td></tr>\n",
       "\t<tr><th scope=row>6</th><td>6</td><td>chr1</td><td>-</td><td>14363</td><td>29370</td><td>ENST00000423562</td><td>10</td><td>1669</td><td>ENSG00000227232</td><td>WASH7P</td><td>9.217399</td><td>1.056284</td><td>23.6011</td><td>3.521534</td><td>21.0137</td><td>3.240996</td></tr>\n",
       "</tbody>\n",
       "</table>\n"
      ],
      "text/latex": [
       "\\begin{tabular}{r|llllllllllllllll}\n",
       "  & t_id & chr & strand & start & end & t_name & num_exons & length & gene_id & gene_name & cov.NC & FPKM.NC & cov.C20_2 & FPKM.C20_2 & cov.C20_3 & FPKM.C20_3\\\\\n",
       "\\hline\n",
       "\t1 & 1 & chr1 & + & 11869 & 14409 & ENST00000456328 & 3 & 1657 & ENSG00000223972 & DDX11L1 & 2.951021 & 0.338178 & 1.862831 & 0.277954 & 2.358867 & 0.363814\\\\\n",
       "\t2 & 2 & chr1 & + & 11872 & 14412 & ENST00000515242 & 3 & 1653 & ENSG00000223972 & DDX11L1 & 0 & 0 & 0 & 0 & 0 & 0\\\\\n",
       "\t3 & 3 & chr1 & + & 11874 & 14409 & ENST00000518655 & 4 & 1483 & ENSG00000223972 & DDX11L1 & 0 & 0 & 0 & 0 & 0 & 0\\\\\n",
       "\t4 & 4 & chr1 & + & 12010 & 13670 & ENST00000450305 & 6 & 632 & ENSG00000223972 & DDX11L1 & 0 & 0 & 0.361802 & 0.053985 & 0.036347 & 0.005606\\\\\n",
       "\t5 & 5 & chr1 & - & 14363 & 24886 & ENST00000541675 & 9 & 1416 & ENSG00000227232 & WASH7P & 1.904493 & 0.218249 & 0.554734 & 0.082772 & 2.340541 & 0.360988\\\\\n",
       "\t6 & 6 & chr1 & - & 14363 & 29370 & ENST00000423562 & 10 & 1669 & ENSG00000227232 & WASH7P & 9.217399 & 1.056284 & 23.6011 & 3.521534 & 21.0137 & 3.240996\\\\\n",
       "\\end{tabular}\n"
      ],
      "text/plain": [
       "  t_id  chr strand start   end          t_name num_exons length         gene_id\n",
       "1    1 chr1      + 11869 14409 ENST00000456328         3   1657 ENSG00000223972\n",
       "2    2 chr1      + 11872 14412 ENST00000515242         3   1653 ENSG00000223972\n",
       "3    3 chr1      + 11874 14409 ENST00000518655         4   1483 ENSG00000223972\n",
       "4    4 chr1      + 12010 13670 ENST00000450305         6    632 ENSG00000223972\n",
       "5    5 chr1      - 14363 24886 ENST00000541675         9   1416 ENSG00000227232\n",
       "6    6 chr1      - 14363 29370 ENST00000423562        10   1669 ENSG00000227232\n",
       "  gene_name   cov.NC  FPKM.NC cov.C20_2 FPKM.C20_2 cov.C20_3 FPKM.C20_3\n",
       "1   DDX11L1 2.951021 0.338178  1.862831   0.277954  2.358867   0.363814\n",
       "2   DDX11L1 0.000000 0.000000  0.000000   0.000000  0.000000   0.000000\n",
       "3   DDX11L1 0.000000 0.000000  0.000000   0.000000  0.000000   0.000000\n",
       "4   DDX11L1 0.000000 0.000000  0.361802   0.053985  0.036347   0.005606\n",
       "5    WASH7P 1.904493 0.218249  0.554734   0.082772  2.340541   0.360988\n",
       "6    WASH7P 9.217399 1.056284 23.601097   3.521534 21.013699   3.240996"
      ]
     },
     "execution_count": 10,
     "metadata": {},
     "output_type": "execute_result"
    }
   ],
   "source": [
    "head(whole_tx_table)"
   ]
  },
  {
   "cell_type": "code",
   "execution_count": 21,
   "metadata": {
    "collapsed": false
   },
   "outputs": [],
   "source": [
    "write.csv(whole_tx_table,file='transcripts_expression_table.csv')\n",
    "write.csv(gene_expression,'gene_expression_table.csv')\n",
    "write.csv(exon_rcount,\"raw_read_count_table.csv\")\n",
    "write.csv(junction_rcount,\"junction_read_count_table.csv\")\n"
   ]
  },
  {
   "cell_type": "code",
   "execution_count": null,
   "metadata": {
    "collapsed": true
   },
   "outputs": [],
   "source": [
    "indexes(bg)"
   ]
  }
 ],
 "metadata": {
  "kernelspec": {
   "display_name": "R",
   "language": "R",
   "name": "ir"
  },
  "language_info": {
   "codemirror_mode": "r",
   "file_extension": ".r",
   "mimetype": "text/x-r-source",
   "name": "R",
   "pygments_lexer": "r",
   "version": "3.2.3"
  }
 },
 "nbformat": 4,
 "nbformat_minor": 0
}
