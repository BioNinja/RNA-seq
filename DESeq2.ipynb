{
 "cells": [
  {
   "cell_type": "code",
   "execution_count": 1,
   "metadata": {
    "collapsed": false
   },
   "outputs": [
    {
     "name": "stderr",
     "output_type": "stream",
     "text": [
      "Loading required package: S4Vectors\n",
      "Loading required package: stats4\n",
      "Loading required package: BiocGenerics\n",
      "Loading required package: parallel\n",
      "\n",
      "Attaching package: 'BiocGenerics'\n",
      "\n",
      "The following objects are masked from 'package:parallel':\n",
      "\n",
      "    clusterApply, clusterApplyLB, clusterCall, clusterEvalQ,\n",
      "    clusterExport, clusterMap, parApply, parCapply, parLapply,\n",
      "    parLapplyLB, parRapply, parSapply, parSapplyLB\n",
      "\n",
      "The following object is masked from 'package:stats':\n",
      "\n",
      "    xtabs\n",
      "\n",
      "The following objects are masked from 'package:base':\n",
      "\n",
      "    anyDuplicated, append, as.data.frame, as.vector, cbind, colnames,\n",
      "    do.call, duplicated, eval, evalq, Filter, Find, get, intersect,\n",
      "    is.unsorted, lapply, Map, mapply, match, mget, order, paste, pmax,\n",
      "    pmax.int, pmin, pmin.int, Position, rank, rbind, Reduce, rep.int,\n",
      "    rownames, sapply, setdiff, sort, table, tapply, union, unique,\n",
      "    unlist, unsplit\n",
      "\n",
      "Loading required package: IRanges\n",
      "Loading required package: GenomicRanges\n",
      "Loading required package: GenomeInfoDb\n",
      "Loading required package: Rcpp\n",
      "Loading required package: RcppArmadillo\n"
     ]
    }
   ],
   "source": [
    "library(DESeq2)"
   ]
  },
  {
   "cell_type": "code",
   "execution_count": 2,
   "metadata": {
    "collapsed": true
   },
   "outputs": [],
   "source": [
    "raw_cnt = read.table(\"./counts_for_deseq.txt\",header=T,row.names = 1)"
   ]
  },
  {
   "cell_type": "code",
   "execution_count": 3,
   "metadata": {
    "collapsed": false
   },
   "outputs": [
    {
     "data": {
      "text/html": [
       "<table>\n",
       "<thead><tr><th></th><th scope=col>C20_2</th><th scope=col>C20_3</th><th scope=col>NC</th></tr></thead>\n",
       "<tbody>\n",
       "\t<tr><th scope=row>ENSG00000000003</th><td>976</td><td>1443</td><td>1452</td></tr>\n",
       "\t<tr><th scope=row>ENSG00000000005</th><td>49</td><td>56</td><td>30</td></tr>\n",
       "\t<tr><th scope=row>ENSG00000000419</th><td>1904</td><td>1112</td><td>2507</td></tr>\n",
       "\t<tr><th scope=row>ENSG00000000457</th><td>216</td><td>254</td><td>254</td></tr>\n",
       "\t<tr><th scope=row>ENSG00000000460</th><td>596</td><td>670</td><td>729</td></tr>\n",
       "\t<tr><th scope=row>ENSG00000000938</th><td>1</td><td>1</td><td>4</td></tr>\n",
       "</tbody>\n",
       "</table>\n"
      ],
      "text/latex": [
       "\\begin{tabular}{r|lll}\n",
       "  & C20_2 & C20_3 & NC\\\\\n",
       "\\hline\n",
       "\tENSG00000000003 & 976 & 1443 & 1452\\\\\n",
       "\tENSG00000000005 & 49 & 56 & 30\\\\\n",
       "\tENSG00000000419 & 1904 & 1112 & 2507\\\\\n",
       "\tENSG00000000457 & 216 & 254 & 254\\\\\n",
       "\tENSG00000000460 & 596 & 670 & 729\\\\\n",
       "\tENSG00000000938 & 1 & 1 & 4\\\\\n",
       "\\end{tabular}\n"
      ],
      "text/plain": [
       "                C20_2 C20_3   NC\n",
       "ENSG00000000003   976  1443 1452\n",
       "ENSG00000000005    49    56   30\n",
       "ENSG00000000419  1904  1112 2507\n",
       "ENSG00000000457   216   254  254\n",
       "ENSG00000000460   596   670  729\n",
       "ENSG00000000938     1     1    4"
      ]
     },
     "execution_count": 3,
     "metadata": {},
     "output_type": "execute_result"
    }
   ],
   "source": [
    "head(raw_cnt)"
   ]
  },
  {
   "cell_type": "code",
   "execution_count": 4,
   "metadata": {
    "collapsed": true
   },
   "outputs": [],
   "source": [
    "count = raw_cnt[rowSums(raw_cnt>10)>2,]"
   ]
  },
  {
   "cell_type": "code",
   "execution_count": 5,
   "metadata": {
    "collapsed": false
   },
   "outputs": [
    {
     "data": {
      "text/html": [
       "<ol class=list-inline>\n",
       "\t<li>57736</li>\n",
       "\t<li>3</li>\n",
       "</ol>\n"
      ],
      "text/latex": [
       "\\begin{enumerate*}\n",
       "\\item 57736\n",
       "\\item 3\n",
       "\\end{enumerate*}\n"
      ],
      "text/markdown": [
       "1. 57736\n",
       "2. 3\n",
       "\n",
       "\n"
      ],
      "text/plain": [
       "[1] 57736     3"
      ]
     },
     "execution_count": 5,
     "metadata": {},
     "output_type": "execute_result"
    }
   ],
   "source": [
    "dim(raw_cnt)"
   ]
  },
  {
   "cell_type": "code",
   "execution_count": 6,
   "metadata": {
    "collapsed": false
   },
   "outputs": [
    {
     "data": {
      "text/html": [
       "<ol class=list-inline>\n",
       "\t<li>20184</li>\n",
       "\t<li>3</li>\n",
       "</ol>\n"
      ],
      "text/latex": [
       "\\begin{enumerate*}\n",
       "\\item 20184\n",
       "\\item 3\n",
       "\\end{enumerate*}\n"
      ],
      "text/markdown": [
       "1. 20184\n",
       "2. 3\n",
       "\n",
       "\n"
      ],
      "text/plain": [
       "[1] 20184     3"
      ]
     },
     "execution_count": 6,
     "metadata": {},
     "output_type": "execute_result"
    }
   ],
   "source": [
    "dim(count)"
   ]
  },
  {
   "cell_type": "code",
   "execution_count": 7,
   "metadata": {
    "collapsed": false
   },
   "outputs": [
    {
     "data": {
      "text/html": [
       "<ol class=list-inline>\n",
       "\t<li>\"C20_2\"</li>\n",
       "\t<li>\"C20_3\"</li>\n",
       "\t<li>\"NC\"</li>\n",
       "</ol>\n"
      ],
      "text/latex": [
       "\\begin{enumerate*}\n",
       "\\item \"C20_2\"\n",
       "\\item \"C20_3\"\n",
       "\\item \"NC\"\n",
       "\\end{enumerate*}\n"
      ],
      "text/markdown": [
       "1. \"C20_2\"\n",
       "2. \"C20_3\"\n",
       "3. \"NC\"\n",
       "\n",
       "\n"
      ],
      "text/plain": [
       "[1] \"C20_2\" \"C20_3\" \"NC\"   "
      ]
     },
     "execution_count": 7,
     "metadata": {},
     "output_type": "execute_result"
    }
   ],
   "source": [
    "colnames(count)"
   ]
  },
  {
   "cell_type": "code",
   "execution_count": 8,
   "metadata": {
    "collapsed": false
   },
   "outputs": [
    {
     "data": {
      "text/html": [
       "<table>\n",
       "<thead><tr><th></th><th scope=col>C20_2</th><th scope=col>C20_3</th><th scope=col>NC</th><th scope=col>NC2</th></tr></thead>\n",
       "<tbody>\n",
       "\t<tr><th scope=row>ENSG00000000003</th><td>976</td><td>1443</td><td>1452</td><td>1452</td></tr>\n",
       "\t<tr><th scope=row>ENSG00000000005</th><td>49</td><td>56</td><td>30</td><td>30</td></tr>\n",
       "\t<tr><th scope=row>ENSG00000000419</th><td>1904</td><td>1112</td><td>2507</td><td>2507</td></tr>\n",
       "\t<tr><th scope=row>ENSG00000000457</th><td>216</td><td>254</td><td>254</td><td>254</td></tr>\n",
       "\t<tr><th scope=row>ENSG00000000460</th><td>596</td><td>670</td><td>729</td><td>729</td></tr>\n",
       "\t<tr><th scope=row>ENSG00000001036</th><td>810</td><td>691</td><td>1023</td><td>1023</td></tr>\n",
       "</tbody>\n",
       "</table>\n"
      ],
      "text/latex": [
       "\\begin{tabular}{r|llll}\n",
       "  & C20_2 & C20_3 & NC & NC2\\\\\n",
       "\\hline\n",
       "\tENSG00000000003 & 976 & 1443 & 1452 & 1452\\\\\n",
       "\tENSG00000000005 & 49 & 56 & 30 & 30\\\\\n",
       "\tENSG00000000419 & 1904 & 1112 & 2507 & 2507\\\\\n",
       "\tENSG00000000457 & 216 & 254 & 254 & 254\\\\\n",
       "\tENSG00000000460 & 596 & 670 & 729 & 729\\\\\n",
       "\tENSG00000001036 & 810 & 691 & 1023 & 1023\\\\\n",
       "\\end{tabular}\n"
      ],
      "text/plain": [
       "                C20_2 C20_3   NC  NC2\n",
       "ENSG00000000003   976  1443 1452 1452\n",
       "ENSG00000000005    49    56   30   30\n",
       "ENSG00000000419  1904  1112 2507 2507\n",
       "ENSG00000000457   216   254  254  254\n",
       "ENSG00000000460   596   670  729  729\n",
       "ENSG00000001036   810   691 1023 1023"
      ]
     },
     "execution_count": 8,
     "metadata": {},
     "output_type": "execute_result"
    }
   ],
   "source": [
    "count$NC2 = count$NC\n",
    "head(count)"
   ]
  },
  {
   "cell_type": "code",
   "execution_count": 9,
   "metadata": {
    "collapsed": true
   },
   "outputs": [],
   "source": [
    "conditon = c(\"KD\",\"KD\",\"NC\",\"NC\")"
   ]
  },
  {
   "cell_type": "code",
   "execution_count": 10,
   "metadata": {
    "collapsed": true
   },
   "outputs": [],
   "source": [
    "countData = count"
   ]
  },
  {
   "cell_type": "code",
   "execution_count": 11,
   "metadata": {
    "collapsed": false
   },
   "outputs": [
    {
     "data": {
      "text/html": [
       "<table>\n",
       "<thead><tr><th></th><th scope=col>C20_2</th><th scope=col>C20_3</th><th scope=col>NC</th><th scope=col>NC2</th></tr></thead>\n",
       "<tbody>\n",
       "\t<tr><th scope=row>ENSG00000000003</th><td>976</td><td>1443</td><td>1452</td><td>1452</td></tr>\n",
       "\t<tr><th scope=row>ENSG00000000005</th><td>49</td><td>56</td><td>30</td><td>30</td></tr>\n",
       "\t<tr><th scope=row>ENSG00000000419</th><td>1904</td><td>1112</td><td>2507</td><td>2507</td></tr>\n",
       "\t<tr><th scope=row>ENSG00000000457</th><td>216</td><td>254</td><td>254</td><td>254</td></tr>\n",
       "\t<tr><th scope=row>ENSG00000000460</th><td>596</td><td>670</td><td>729</td><td>729</td></tr>\n",
       "\t<tr><th scope=row>ENSG00000001036</th><td>810</td><td>691</td><td>1023</td><td>1023</td></tr>\n",
       "</tbody>\n",
       "</table>\n"
      ],
      "text/latex": [
       "\\begin{tabular}{r|llll}\n",
       "  & C20_2 & C20_3 & NC & NC2\\\\\n",
       "\\hline\n",
       "\tENSG00000000003 & 976 & 1443 & 1452 & 1452\\\\\n",
       "\tENSG00000000005 & 49 & 56 & 30 & 30\\\\\n",
       "\tENSG00000000419 & 1904 & 1112 & 2507 & 2507\\\\\n",
       "\tENSG00000000457 & 216 & 254 & 254 & 254\\\\\n",
       "\tENSG00000000460 & 596 & 670 & 729 & 729\\\\\n",
       "\tENSG00000001036 & 810 & 691 & 1023 & 1023\\\\\n",
       "\\end{tabular}\n"
      ],
      "text/plain": [
       "                C20_2 C20_3   NC  NC2\n",
       "ENSG00000000003   976  1443 1452 1452\n",
       "ENSG00000000005    49    56   30   30\n",
       "ENSG00000000419  1904  1112 2507 2507\n",
       "ENSG00000000457   216   254  254  254\n",
       "ENSG00000000460   596   670  729  729\n",
       "ENSG00000001036   810   691 1023 1023"
      ]
     },
     "execution_count": 11,
     "metadata": {},
     "output_type": "execute_result"
    }
   ],
   "source": [
    "head(countData)"
   ]
  },
  {
   "cell_type": "code",
   "execution_count": 12,
   "metadata": {
    "collapsed": true
   },
   "outputs": [],
   "source": [
    "sample = colnames(countData)\n",
    "condition = c(\"KD\",\"KD\",\"NC\",\"NC\")"
   ]
  },
  {
   "cell_type": "code",
   "execution_count": 13,
   "metadata": {
    "collapsed": false
   },
   "outputs": [],
   "source": [
    "exptab = data.frame(condition,row.names=sample)"
   ]
  },
  {
   "cell_type": "code",
   "execution_count": 14,
   "metadata": {
    "collapsed": false
   },
   "outputs": [
    {
     "data": {
      "text/html": [
       "<table>\n",
       "<thead><tr><th></th><th scope=col>condition</th></tr></thead>\n",
       "<tbody>\n",
       "\t<tr><th scope=row>C20_2</th><td>KD</td></tr>\n",
       "\t<tr><th scope=row>C20_3</th><td>KD</td></tr>\n",
       "\t<tr><th scope=row>NC</th><td>NC</td></tr>\n",
       "\t<tr><th scope=row>NC2</th><td>NC</td></tr>\n",
       "</tbody>\n",
       "</table>\n"
      ],
      "text/latex": [
       "\\begin{tabular}{r|l}\n",
       "  & condition\\\\\n",
       "\\hline\n",
       "\tC20_2 & KD\\\\\n",
       "\tC20_3 & KD\\\\\n",
       "\tNC & NC\\\\\n",
       "\tNC2 & NC\\\\\n",
       "\\end{tabular}\n"
      ],
      "text/plain": [
       "      condition\n",
       "C20_2        KD\n",
       "C20_3        KD\n",
       "NC           NC\n",
       "NC2          NC"
      ]
     },
     "execution_count": 14,
     "metadata": {},
     "output_type": "execute_result"
    }
   ],
   "source": [
    "exptab"
   ]
  },
  {
   "cell_type": "code",
   "execution_count": 15,
   "metadata": {
    "collapsed": true
   },
   "outputs": [],
   "source": [
    "dds = DESeqDataSetFromMatrix(countData = countData,colData = exptab,design = ~condition)"
   ]
  },
  {
   "cell_type": "code",
   "execution_count": 16,
   "metadata": {
    "collapsed": false
   },
   "outputs": [
    {
     "name": "stderr",
     "output_type": "stream",
     "text": [
      "estimating size factors\n",
      "estimating dispersions\n",
      "gene-wise dispersion estimates\n",
      "mean-dispersion relationship\n",
      "final dispersion estimates\n",
      "fitting model and testing\n"
     ]
    }
   ],
   "source": [
    "dds = DESeq(dds)"
   ]
  },
  {
   "cell_type": "code",
   "execution_count": 17,
   "metadata": {
    "collapsed": false
   },
   "outputs": [
    {
     "data": {
      "text/html": [
       "<ol class=list-inline>\n",
       "\t<li>\"Intercept\"</li>\n",
       "\t<li>\"conditionKD\"</li>\n",
       "\t<li>\"conditionNC\"</li>\n",
       "</ol>\n"
      ],
      "text/latex": [
       "\\begin{enumerate*}\n",
       "\\item \"Intercept\"\n",
       "\\item \"conditionKD\"\n",
       "\\item \"conditionNC\"\n",
       "\\end{enumerate*}\n"
      ],
      "text/markdown": [
       "1. \"Intercept\"\n",
       "2. \"conditionKD\"\n",
       "3. \"conditionNC\"\n",
       "\n",
       "\n"
      ],
      "text/plain": [
       "[1] \"Intercept\"   \"conditionKD\" \"conditionNC\""
      ]
     },
     "execution_count": 17,
     "metadata": {},
     "output_type": "execute_result"
    }
   ],
   "source": [
    "resultsNames(dds)"
   ]
  },
  {
   "cell_type": "code",
   "execution_count": 18,
   "metadata": {
    "collapsed": true
   },
   "outputs": [],
   "source": [
    "res = results(dds)"
   ]
  },
  {
   "cell_type": "code",
   "execution_count": 19,
   "metadata": {
    "collapsed": false
   },
   "outputs": [
    {
     "name": "stdout",
     "output_type": "stream",
     "text": [
      "\n",
      "out of 20184 with nonzero total read count\n",
      "adjusted p-value < 0.1\n",
      "LFC > 0 (up)     : 515, 2.6% \n",
      "LFC < 0 (down)   : 247, 1.2% \n",
      "outliers [1]     : 0, 0% \n",
      "low counts [2]   : 5046, 25% \n",
      "(mean count < 48.6)\n",
      "[1] see 'cooksCutoff' argument of ?results\n",
      "[2] see 'independentFiltering' argument of ?results\n",
      "\n"
     ]
    }
   ],
   "source": [
    "summary(res)"
   ]
  },
  {
   "cell_type": "code",
   "execution_count": 20,
   "metadata": {
    "collapsed": false
   },
   "outputs": [
    {
     "data": {
      "text/plain": [
       "log2 fold change (MAP): condition NC vs KD \n",
       "Wald test p-value: condition NC vs KD \n",
       "DataFrame with 20184 rows and 6 columns\n",
       "                  baseMean log2FoldChange     lfcSE         stat     pvalue\n",
       "                 <numeric>      <numeric> <numeric>    <numeric>  <numeric>\n",
       "ENSG00000000003 1324.43637    -0.02234624 0.2135893   -0.1046225 0.91667540\n",
       "ENSG00000000005   42.62257    -0.68348416 0.2948589   -2.3180044 0.02044908\n",
       "ENSG00000000419 1972.40511     0.34945424 0.2402149    1.4547565 0.14573668\n",
       "ENSG00000000457  244.86328    -0.15243934 0.2200334   -0.6928009 0.48843450\n",
       "ENSG00000000460  679.95437    -0.07945262 0.1896152   -0.4190202 0.67520134\n",
       "...                    ...            ...       ...          ...        ...\n",
       "ENSG00000273474   18.47665   -0.218991265 0.3026309 -0.723624884 0.46929606\n",
       "ENSG00000273478   23.60533   -0.609052289 0.3038150 -2.004681318 0.04499713\n",
       "ENSG00000273486   55.03666    0.220576772 0.2896292  0.761583265 0.44630877\n",
       "ENSG00000273488   24.56105    0.348156116 0.3038635  1.145764724 0.25189252\n",
       "ENSG00000273489   85.74634    0.002505962 0.2738311  0.009151488 0.99269827\n",
       "                     padj\n",
       "                <numeric>\n",
       "ENSG00000000003 0.9817909\n",
       "ENSG00000000005        NA\n",
       "ENSG00000000419 0.5159819\n",
       "ENSG00000000457 0.8125188\n",
       "ENSG00000000460 0.8949477\n",
       "...                   ...\n",
       "ENSG00000273474        NA\n",
       "ENSG00000273478        NA\n",
       "ENSG00000273486 0.7872746\n",
       "ENSG00000273488        NA\n",
       "ENSG00000273489 0.9982301"
      ]
     },
     "execution_count": 20,
     "metadata": {},
     "output_type": "execute_result"
    }
   ],
   "source": [
    "res"
   ]
  },
  {
   "cell_type": "code",
   "execution_count": 21,
   "metadata": {
    "collapsed": true
   },
   "outputs": [],
   "source": [
    "res_order = res[order(res$padj),]"
   ]
  },
  {
   "cell_type": "code",
   "execution_count": 22,
   "metadata": {
    "collapsed": true
   },
   "outputs": [],
   "source": [
    "res_sig = subset(res_order,padj<0.1)"
   ]
  },
  {
   "cell_type": "code",
   "execution_count": 23,
   "metadata": {
    "collapsed": false
   },
   "outputs": [
    {
     "data": {
      "text/plain": [
       "log2 fold change (MAP): condition NC vs KD \n",
       "Wald test p-value: condition NC vs KD \n",
       "DataFrame with 762 rows and 6 columns\n",
       "                  baseMean log2FoldChange     lfcSE      stat       pvalue\n",
       "                 <numeric>      <numeric> <numeric> <numeric>    <numeric>\n",
       "ENSG00000188856  1034.8489       3.080285 0.2494151 12.350032 4.869188e-35\n",
       "ENSG00000196890  1546.6394       2.327859 0.1933593 12.039035 2.215310e-33\n",
       "ENSG00000163017   299.3493       2.033665 0.2212134  9.193226 3.812325e-20\n",
       "ENSG00000167996  3955.0188       1.855768 0.2147259  8.642498 5.499723e-18\n",
       "ENSG00000105427   899.3735       2.056936 0.2445480  8.411173 4.059309e-17\n",
       "...                    ...            ...       ...       ...          ...\n",
       "ENSG00000141582   60.14197      0.7935843 0.2826438  2.807718  0.004989382\n",
       "ENSG00000188803  245.55179      0.6109002 0.2175906  2.807567  0.004991726\n",
       "ENSG00000267924  223.49442     -0.6654253 0.2369869 -2.807857  0.004987241\n",
       "ENSG00000184634 1599.53818      0.5146228 0.1833585  2.806648  0.005005997\n",
       "ENSG00000197153 3236.76542      0.5515097 0.1965565  2.805859  0.005018270\n",
       "                        padj\n",
       "                   <numeric>\n",
       "ENSG00000188856 7.370977e-31\n",
       "ENSG00000196890 1.676768e-29\n",
       "ENSG00000163017 1.923699e-16\n",
       "ENSG00000167996 2.081370e-14\n",
       "ENSG00000105427 1.228996e-13\n",
       "...                      ...\n",
       "ENSG00000141582   0.09945278\n",
       "ENSG00000188803   0.09945278\n",
       "ENSG00000267924   0.09945278\n",
       "ENSG00000184634   0.09958053\n",
       "ENSG00000197153   0.09969367"
      ]
     },
     "execution_count": 23,
     "metadata": {},
     "output_type": "execute_result"
    }
   ],
   "source": [
    "res_sig"
   ]
  },
  {
   "cell_type": "code",
   "execution_count": 24,
   "metadata": {
    "collapsed": true
   },
   "outputs": [],
   "source": [
    "write.csv(res_sig,\"diff_genes_DESeq2.csv\")"
   ]
  },
  {
   "cell_type": "code",
   "execution_count": 25,
   "metadata": {
    "collapsed": false
   },
   "outputs": [
    {
     "name": "stderr",
     "output_type": "stream",
     "text": [
      "Loading required package: AnnotationDbi\n",
      "Loading required package: Biobase\n",
      "Welcome to Bioconductor\n",
      "\n",
      "    Vignettes contain introductory material; view with\n",
      "    'browseVignettes()'. To cite Bioconductor, see\n",
      "    'citation(\"Biobase\")', and for packages 'citation(\"pkgname\")'.\n",
      "\n",
      "Loading required package: DBI\n",
      "\n"
     ]
    }
   ],
   "source": [
    "library(org.Hs.eg.db) #org.Hs.eg.db for mouse"
   ]
  },
  {
   "cell_type": "code",
   "execution_count": 36,
   "metadata": {
    "collapsed": false
   },
   "outputs": [
    {
     "data": {
      "text/html": [
       "<table>\n",
       "<thead><tr><th></th><th scope=col>baseMean</th><th scope=col>log2FoldChange</th><th scope=col>lfcSE</th><th scope=col>stat</th><th scope=col>pvalue</th><th scope=col>padj</th></tr></thead>\n",
       "<tbody>\n",
       "\t<tr><th scope=row>ENSG00000188856</th><td>1034.849</td><td>3.080285</td><td>0.2494151</td><td>12.35003</td><td>4.869188e-35</td><td>7.370977e-31</td></tr>\n",
       "\t<tr><th scope=row>ENSG00000196890</th><td>1546.639</td><td>2.327859</td><td>0.1933593</td><td>12.03904</td><td>2.21531e-33</td><td>1.676768e-29</td></tr>\n",
       "\t<tr><th scope=row>ENSG00000163017</th><td>299.3493</td><td>2.033665</td><td>0.2212134</td><td>9.193226</td><td>3.812325e-20</td><td>1.923699e-16</td></tr>\n",
       "\t<tr><th scope=row>ENSG00000167996</th><td>3955.019</td><td>1.855768</td><td>0.2147259</td><td>8.642498</td><td>5.499723e-18</td><td>2.08137e-14</td></tr>\n",
       "\t<tr><th scope=row>ENSG00000105427</th><td>899.3735</td><td>2.056936</td><td>0.244548</td><td>8.411173</td><td>4.059309e-17</td><td>1.228996e-13</td></tr>\n",
       "\t<tr><th scope=row>ENSG00000233913</th><td>466.1333</td><td>1.939814</td><td>0.2329349</td><td>8.327708</td><td>8.242238e-17</td><td>2.079517e-13</td></tr>\n",
       "</tbody>\n",
       "</table>\n"
      ],
      "text/latex": [
       "\\begin{tabular}{r|llllll}\n",
       "  & baseMean & log2FoldChange & lfcSE & stat & pvalue & padj\\\\\n",
       "\\hline\n",
       "\tENSG00000188856 & 1034.849 & 3.080285 & 0.2494151 & 12.35003 & 4.869188e-35 & 7.370977e-31\\\\\n",
       "\tENSG00000196890 & 1546.639 & 2.327859 & 0.1933593 & 12.03904 & 2.21531e-33 & 1.676768e-29\\\\\n",
       "\tENSG00000163017 & 299.3493 & 2.033665 & 0.2212134 & 9.193226 & 3.812325e-20 & 1.923699e-16\\\\\n",
       "\tENSG00000167996 & 3955.019 & 1.855768 & 0.2147259 & 8.642498 & 5.499723e-18 & 2.08137e-14\\\\\n",
       "\tENSG00000105427 & 899.3735 & 2.056936 & 0.244548 & 8.411173 & 4.059309e-17 & 1.228996e-13\\\\\n",
       "\tENSG00000233913 & 466.1333 & 1.939814 & 0.2329349 & 8.327708 & 8.242238e-17 & 2.079517e-13\\\\\n",
       "\\end{tabular}\n"
      ],
      "text/plain": [
       "                 baseMean log2FoldChange     lfcSE      stat       pvalue\n",
       "ENSG00000188856 1034.8489       3.080285 0.2494151 12.350032 4.869188e-35\n",
       "ENSG00000196890 1546.6394       2.327859 0.1933593 12.039035 2.215310e-33\n",
       "ENSG00000163017  299.3493       2.033665 0.2212134  9.193226 3.812325e-20\n",
       "ENSG00000167996 3955.0188       1.855768 0.2147259  8.642498 5.499723e-18\n",
       "ENSG00000105427  899.3735       2.056936 0.2445480  8.411173 4.059309e-17\n",
       "ENSG00000233913  466.1333       1.939814 0.2329349  8.327708 8.242238e-17\n",
       "                        padj\n",
       "ENSG00000188856 7.370977e-31\n",
       "ENSG00000196890 1.676768e-29\n",
       "ENSG00000163017 1.923699e-16\n",
       "ENSG00000167996 2.081370e-14\n",
       "ENSG00000105427 1.228996e-13\n",
       "ENSG00000233913 2.079517e-13"
      ]
     },
     "execution_count": 36,
     "metadata": {},
     "output_type": "execute_result"
    }
   ],
   "source": [
    "res = read.csv(\"./diff_genes_DESeq2.csv\",row.names=1)\n",
    "head(res)\n"
   ]
  },
  {
   "cell_type": "code",
   "execution_count": 37,
   "metadata": {
    "collapsed": false
   },
   "outputs": [],
   "source": [
    "tmp=select(org.Hs.eg.db, keys=as.character(rownames(res)), columns=c(\"ENTREZID\",\"SYMBOL\",\"GENENAME\"), keytype=\"ENSEMBL\")\n",
    "\n",
    "res=merge(tmp, res,by.x='ENSEMBL',by.y=\"row.names\",all=TRUE)\n"
   ]
  },
  {
   "cell_type": "code",
   "execution_count": 38,
   "metadata": {
    "collapsed": false
   },
   "outputs": [
    {
     "data": {
      "text/html": [
       "<table>\n",
       "<thead><tr><th></th><th scope=col>ENSEMBL</th><th scope=col>ENTREZID</th><th scope=col>SYMBOL</th><th scope=col>GENENAME</th><th scope=col>baseMean</th><th scope=col>log2FoldChange</th><th scope=col>lfcSE</th><th scope=col>stat</th><th scope=col>pvalue</th><th scope=col>padj</th></tr></thead>\n",
       "<tbody>\n",
       "\t<tr><th scope=row>1</th><td>ENSG00000001630</td><td>1595</td><td>CYP51A1</td><td>cytochrome P450, family 51, subfamily A, polypeptide 1</td><td>66.35818</td><td>0.9884089</td><td>0.2794816</td><td>3.536579</td><td>0.0004053452</td><td>0.02018459</td></tr>\n",
       "\t<tr><th scope=row>2</th><td>ENSG00000002746</td><td>23072</td><td>HECW1</td><td>HECT, C2 and WW domain containing E3 ubiquitin protein ligase 1</td><td>429.141</td><td>0.8866208</td><td>0.2093089</td><td>4.235945</td><td>2.275929e-05</td><td>0.002281657</td></tr>\n",
       "\t<tr><th scope=row>3</th><td>ENSG00000004779</td><td>4706</td><td>NDUFAB1</td><td>NADH dehydrogenase (ubiquinone) 1, alpha/beta subcomplex, 1, 8kDa</td><td>1212.641</td><td>-0.6685511</td><td>0.1793515</td><td>-3.727602</td><td>0.00019331</td><td>0.0117997</td></tr>\n",
       "\t<tr><th scope=row>4</th><td>ENSG00000005075</td><td>5439</td><td>POLR2J</td><td>polymerase (RNA) II (DNA directed) polypeptide J, 13.3kDa</td><td>1130.009</td><td>1.421994</td><td>0.2021462</td><td>7.034484</td><td>1.999992e-12</td><td>2.328914e-09</td></tr>\n",
       "\t<tr><th scope=row>5</th><td>ENSG00000005379</td><td>9256</td><td>BZRAP1</td><td>benzodiazepine receptor (peripheral) associated protein 1</td><td>230.2979</td><td>0.7411204</td><td>0.2205981</td><td>3.359595</td><td>0.0007805678</td><td>0.03176408</td></tr>\n",
       "\t<tr><th scope=row>6</th><td>ENSG00000005882</td><td>5164</td><td>PDK2</td><td>pyruvate dehydrogenase kinase, isozyme 2</td><td>203.2085</td><td>0.8344976</td><td>0.2539803</td><td>3.285678</td><td>0.001017373</td><td>0.0370216</td></tr>\n",
       "</tbody>\n",
       "</table>\n"
      ],
      "text/latex": [
       "\\begin{tabular}{r|llllllllll}\n",
       "  & ENSEMBL & ENTREZID & SYMBOL & GENENAME & baseMean & log2FoldChange & lfcSE & stat & pvalue & padj\\\\\n",
       "\\hline\n",
       "\t1 & ENSG00000001630 & 1595 & CYP51A1 & cytochrome P450, family 51, subfamily A, polypeptide 1 & 66.35818 & 0.9884089 & 0.2794816 & 3.536579 & 0.0004053452 & 0.02018459\\\\\n",
       "\t2 & ENSG00000002746 & 23072 & HECW1 & HECT, C2 and WW domain containing E3 ubiquitin protein ligase 1 & 429.141 & 0.8866208 & 0.2093089 & 4.235945 & 2.275929e-05 & 0.002281657\\\\\n",
       "\t3 & ENSG00000004779 & 4706 & NDUFAB1 & NADH dehydrogenase (ubiquinone) 1, alpha/beta subcomplex, 1, 8kDa & 1212.641 & -0.6685511 & 0.1793515 & -3.727602 & 0.00019331 & 0.0117997\\\\\n",
       "\t4 & ENSG00000005075 & 5439 & POLR2J & polymerase (RNA) II (DNA directed) polypeptide J, 13.3kDa & 1130.009 & 1.421994 & 0.2021462 & 7.034484 & 1.999992e-12 & 2.328914e-09\\\\\n",
       "\t5 & ENSG00000005379 & 9256 & BZRAP1 & benzodiazepine receptor (peripheral) associated protein 1 & 230.2979 & 0.7411204 & 0.2205981 & 3.359595 & 0.0007805678 & 0.03176408\\\\\n",
       "\t6 & ENSG00000005882 & 5164 & PDK2 & pyruvate dehydrogenase kinase, isozyme 2 & 203.2085 & 0.8344976 & 0.2539803 & 3.285678 & 0.001017373 & 0.0370216\\\\\n",
       "\\end{tabular}\n"
      ],
      "text/plain": [
       "          ENSEMBL ENTREZID  SYMBOL\n",
       "1 ENSG00000001630     1595 CYP51A1\n",
       "2 ENSG00000002746    23072   HECW1\n",
       "3 ENSG00000004779     4706 NDUFAB1\n",
       "4 ENSG00000005075     5439  POLR2J\n",
       "5 ENSG00000005379     9256  BZRAP1\n",
       "6 ENSG00000005882     5164    PDK2\n",
       "                                                           GENENAME   baseMean\n",
       "1            cytochrome P450, family 51, subfamily A, polypeptide 1   66.35818\n",
       "2   HECT, C2 and WW domain containing E3 ubiquitin protein ligase 1  429.14097\n",
       "3 NADH dehydrogenase (ubiquinone) 1, alpha/beta subcomplex, 1, 8kDa 1212.64099\n",
       "4         polymerase (RNA) II (DNA directed) polypeptide J, 13.3kDa 1130.00864\n",
       "5         benzodiazepine receptor (peripheral) associated protein 1  230.29791\n",
       "6                          pyruvate dehydrogenase kinase, isozyme 2  203.20854\n",
       "  log2FoldChange     lfcSE      stat       pvalue         padj\n",
       "1      0.9884089 0.2794816  3.536579 4.053452e-04 2.018459e-02\n",
       "2      0.8866208 0.2093089  4.235945 2.275929e-05 2.281657e-03\n",
       "3     -0.6685511 0.1793515 -3.727602 1.933100e-04 1.179970e-02\n",
       "4      1.4219941 0.2021462  7.034484 1.999992e-12 2.328914e-09\n",
       "5      0.7411204 0.2205981  3.359595 7.805678e-04 3.176408e-02\n",
       "6      0.8344976 0.2539803  3.285678 1.017373e-03 3.702160e-02"
      ]
     },
     "execution_count": 38,
     "metadata": {},
     "output_type": "execute_result"
    }
   ],
   "source": [
    "head(res)"
   ]
  },
  {
   "cell_type": "code",
   "execution_count": 39,
   "metadata": {
    "collapsed": false
   },
   "outputs": [],
   "source": [
    "#tmp=select(org.Hs.eg.db, keys=res$ENSEMBL, columns='GO', keytype='ENSEMBL')\n",
    "\n",
    "#ensembl_go=unlist(tapply(tmp[,2],as.factor(tmp[,1]),function(x) paste(x,collapse ='|'),simplify =F))\n",
    "#为res加入go注释，\n",
    "#res$go=ensembl_go[res$ENSEMBL]#为res加入一列go\n",
    "#head(res)"
   ]
  },
  {
   "cell_type": "code",
   "execution_count": 40,
   "metadata": {
    "collapsed": false
   },
   "outputs": [
    {
     "data": {
      "text/html": [
       "<ol class=list-inline>\n",
       "\t<li>\"ENSEMBL\"</li>\n",
       "\t<li>\"ENTREZID\"</li>\n",
       "\t<li>\"SYMBOL\"</li>\n",
       "\t<li>\"GENENAME\"</li>\n",
       "\t<li>\"baseMean\"</li>\n",
       "\t<li>\"log2FoldChange\"</li>\n",
       "\t<li>\"lfcSE\"</li>\n",
       "\t<li>\"stat\"</li>\n",
       "\t<li>\"pvalue\"</li>\n",
       "\t<li>\"padj\"</li>\n",
       "</ol>\n"
      ],
      "text/latex": [
       "\\begin{enumerate*}\n",
       "\\item \"ENSEMBL\"\n",
       "\\item \"ENTREZID\"\n",
       "\\item \"SYMBOL\"\n",
       "\\item \"GENENAME\"\n",
       "\\item \"baseMean\"\n",
       "\\item \"log2FoldChange\"\n",
       "\\item \"lfcSE\"\n",
       "\\item \"stat\"\n",
       "\\item \"pvalue\"\n",
       "\\item \"padj\"\n",
       "\\end{enumerate*}\n"
      ],
      "text/markdown": [
       "1. \"ENSEMBL\"\n",
       "2. \"ENTREZID\"\n",
       "3. \"SYMBOL\"\n",
       "4. \"GENENAME\"\n",
       "5. \"baseMean\"\n",
       "6. \"log2FoldChange\"\n",
       "7. \"lfcSE\"\n",
       "8. \"stat\"\n",
       "9. \"pvalue\"\n",
       "10. \"padj\"\n",
       "\n",
       "\n"
      ],
      "text/plain": [
       " [1] \"ENSEMBL\"        \"ENTREZID\"       \"SYMBOL\"         \"GENENAME\"      \n",
       " [5] \"baseMean\"       \"log2FoldChange\" \"lfcSE\"          \"stat\"          \n",
       " [9] \"pvalue\"         \"padj\"          "
      ]
     },
     "execution_count": 40,
     "metadata": {},
     "output_type": "execute_result"
    }
   ],
   "source": [
    "colnames(res)"
   ]
  },
  {
   "cell_type": "code",
   "execution_count": 41,
   "metadata": {
    "collapsed": true
   },
   "outputs": [],
   "source": [
    "uniq=na.omit(res)#删除无效基因\n",
    "sort_uniq=uniq[order(uniq$padj),]#按照矫正p值排序\n",
    "#标记上下调基因\n",
    "sort_uniq$up_down=ifelse(sort_uniq$log2FoldChange > 0 ,'up','down')\n",
    "#写出最后数据\n",
    "write.csv(sort_uniq,file='diff_genes_with_annotation_DESeq2.csv',row.names =F)\n",
    "\n"
   ]
  },
  {
   "cell_type": "code",
   "execution_count": 42,
   "metadata": {
    "collapsed": false
   },
   "outputs": [
    {
     "data": {
      "text/html": [
       "<table>\n",
       "<thead><tr><th></th><th scope=col>ENSEMBL</th><th scope=col>ENTREZID</th><th scope=col>SYMBOL</th><th scope=col>GENENAME</th><th scope=col>baseMean</th><th scope=col>log2FoldChange</th><th scope=col>lfcSE</th><th scope=col>stat</th><th scope=col>pvalue</th><th scope=col>padj</th></tr></thead>\n",
       "<tbody>\n",
       "\t<tr><th scope=row>564</th><td>ENSG00000196890</td><td>128312</td><td>HIST3H2BB</td><td>histone cluster 3, H2bb</td><td>1546.639</td><td>2.327859</td><td>0.1933593</td><td>12.03904</td><td>2.21531e-33</td><td>1.676768e-29</td></tr>\n",
       "\t<tr><th scope=row>391</th><td>ENSG00000163017</td><td>72</td><td>ACTG2</td><td>actin, gamma 2, smooth muscle, enteric</td><td>299.3493</td><td>2.033665</td><td>0.2212134</td><td>9.193226</td><td>3.812325e-20</td><td>1.923699e-16</td></tr>\n",
       "\t<tr><th scope=row>429</th><td>ENSG00000167996</td><td>2495</td><td>FTH1</td><td>ferritin, heavy polypeptide 1</td><td>3955.019</td><td>1.855768</td><td>0.2147259</td><td>8.642498</td><td>5.499723e-18</td><td>2.08137e-14</td></tr>\n",
       "\t<tr><th scope=row>106</th><td>ENSG00000105427</td><td>84518</td><td>CNFN</td><td>cornifelin</td><td>899.3735</td><td>2.056936</td><td>0.244548</td><td>8.411173</td><td>4.059309e-17</td><td>1.228996e-13</td></tr>\n",
       "\t<tr><th scope=row>767</th><td>ENSG00000264462</td><td>100500862</td><td>MIR3648-1</td><td>microRNA 3648-1</td><td>594.5227</td><td>-2.187536</td><td>0.269344</td><td>-8.121717</td><td>4.596328e-16</td><td>9.939888e-13</td></tr>\n",
       "\t<tr><th scope=row>467</th><td>ENSG00000173915</td><td>84833</td><td>USMG5</td><td>up-regulated during skeletal muscle growth 5 homolog (mouse)</td><td>1746.587</td><td>1.47096</td><td>0.1852239</td><td>7.941523</td><td>1.997139e-15</td><td>3.779086e-12</td></tr>\n",
       "</tbody>\n",
       "</table>\n"
      ],
      "text/latex": [
       "\\begin{tabular}{r|llllllllll}\n",
       "  & ENSEMBL & ENTREZID & SYMBOL & GENENAME & baseMean & log2FoldChange & lfcSE & stat & pvalue & padj\\\\\n",
       "\\hline\n",
       "\t564 & ENSG00000196890 & 128312 & HIST3H2BB & histone cluster 3, H2bb & 1546.639 & 2.327859 & 0.1933593 & 12.03904 & 2.21531e-33 & 1.676768e-29\\\\\n",
       "\t391 & ENSG00000163017 & 72 & ACTG2 & actin, gamma 2, smooth muscle, enteric & 299.3493 & 2.033665 & 0.2212134 & 9.193226 & 3.812325e-20 & 1.923699e-16\\\\\n",
       "\t429 & ENSG00000167996 & 2495 & FTH1 & ferritin, heavy polypeptide 1 & 3955.019 & 1.855768 & 0.2147259 & 8.642498 & 5.499723e-18 & 2.08137e-14\\\\\n",
       "\t106 & ENSG00000105427 & 84518 & CNFN & cornifelin & 899.3735 & 2.056936 & 0.244548 & 8.411173 & 4.059309e-17 & 1.228996e-13\\\\\n",
       "\t767 & ENSG00000264462 & 100500862 & MIR3648-1 & microRNA 3648-1 & 594.5227 & -2.187536 & 0.269344 & -8.121717 & 4.596328e-16 & 9.939888e-13\\\\\n",
       "\t467 & ENSG00000173915 & 84833 & USMG5 & up-regulated during skeletal muscle growth 5 homolog (mouse) & 1746.587 & 1.47096 & 0.1852239 & 7.941523 & 1.997139e-15 & 3.779086e-12\\\\\n",
       "\\end{tabular}\n"
      ],
      "text/plain": [
       "            ENSEMBL  ENTREZID    SYMBOL\n",
       "564 ENSG00000196890    128312 HIST3H2BB\n",
       "391 ENSG00000163017        72     ACTG2\n",
       "429 ENSG00000167996      2495      FTH1\n",
       "106 ENSG00000105427     84518      CNFN\n",
       "767 ENSG00000264462 100500862 MIR3648-1\n",
       "467 ENSG00000173915     84833     USMG5\n",
       "                                                        GENENAME  baseMean\n",
       "564                                      histone cluster 3, H2bb 1546.6394\n",
       "391                       actin, gamma 2, smooth muscle, enteric  299.3493\n",
       "429                                ferritin, heavy polypeptide 1 3955.0188\n",
       "106                                                   cornifelin  899.3735\n",
       "767                                              microRNA 3648-1  594.5227\n",
       "467 up-regulated during skeletal muscle growth 5 homolog (mouse) 1746.5866\n",
       "    log2FoldChange     lfcSE      stat       pvalue         padj\n",
       "564       2.327859 0.1933593 12.039035 2.215310e-33 1.676768e-29\n",
       "391       2.033665 0.2212134  9.193226 3.812325e-20 1.923699e-16\n",
       "429       1.855768 0.2147259  8.642498 5.499723e-18 2.081370e-14\n",
       "106       2.056936 0.2445480  8.411173 4.059309e-17 1.228996e-13\n",
       "767      -2.187536 0.2693440 -8.121717 4.596328e-16 9.939888e-13\n",
       "467       1.470960 0.1852239  7.941523 1.997139e-15 3.779086e-12"
      ]
     },
     "execution_count": 42,
     "metadata": {},
     "output_type": "execute_result"
    }
   ],
   "source": [
    "head(sort_uniq)"
   ]
  },
  {
   "cell_type": "code",
   "execution_count": null,
   "metadata": {
    "collapsed": true
   },
   "outputs": [],
   "source": [
    "tmp=select(org.Hs.eg.db, keys=sort_uniq[sort_uniq$padj<0.1,1], columns='ENTREZID', keytype='ENSEMBL')\n",
    "diff_ENTREZID=tmp$ENTREZID\n",
    "require(DOSE)\n",
    "require(clusterProfiler)\n",
    "diff_ENTREZID=na.omit(diff_ENTREZID)\n",
    "ego <- enrichGO(gene=diff_ENTREZID,organism='human',ont='BP',pvalueCutoff=0.05,readable=TRUE)\n",
    "ekk <- enrichKEGG(gene=diff_ENTREZID, organism='human',pvalueCutoff=0.05,readable=TRUE, use_internal_data=T)\n",
    "write.csv(summary(ekk),'C20_2_vs_NC_KEGG-enrich.csv',row.names =F)\n",
    "write.csv(summary(ego),'C20_3_vs_NC_GO-enrich.csv',row.names =F)"
   ]
  }
 ],
 "metadata": {
  "kernelspec": {
   "display_name": "R",
   "language": "R",
   "name": "ir"
  },
  "language_info": {
   "codemirror_mode": "r",
   "file_extension": ".r",
   "mimetype": "text/x-r-source",
   "name": "R",
   "pygments_lexer": "r",
   "version": "3.2.4"
  }
 },
 "nbformat": 4,
 "nbformat_minor": 0
}
