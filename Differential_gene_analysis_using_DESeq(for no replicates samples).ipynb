{
 "cells": [
  {
   "cell_type": "code",
   "execution_count": 1,
   "metadata": {
    "collapsed": false
   },
   "outputs": [
    {
     "data": {
      "text/html": [
       "\"G:/zll/htseq_out\""
      ],
      "text/latex": [
       "\"G:/zll/htseq_out\""
      ],
      "text/markdown": [
       "\"G:/zll/htseq_out\""
      ],
      "text/plain": [
       "[1] \"G:/zll/htseq_out\""
      ]
     },
     "execution_count": 1,
     "metadata": {},
     "output_type": "execute_result"
    }
   ],
   "source": [
    "getwd()"
   ]
  },
  {
   "cell_type": "code",
   "execution_count": 2,
   "metadata": {
    "collapsed": false
   },
   "outputs": [
    {
     "name": "stderr",
     "output_type": "stream",
     "text": [
      "Loading required package: BiocGenerics\n",
      "Loading required package: parallel\n",
      "\n",
      "Attaching package: 'BiocGenerics'\n",
      "\n",
      "The following objects are masked from 'package:parallel':\n",
      "\n",
      "    clusterApply, clusterApplyLB, clusterCall, clusterEvalQ,\n",
      "    clusterExport, clusterMap, parApply, parCapply, parLapply,\n",
      "    parLapplyLB, parRapply, parSapply, parSapplyLB\n",
      "\n",
      "The following object is masked from 'package:stats':\n",
      "\n",
      "    xtabs\n",
      "\n",
      "The following objects are masked from 'package:base':\n",
      "\n",
      "    anyDuplicated, append, as.data.frame, as.vector, cbind, colnames,\n",
      "    do.call, duplicated, eval, evalq, Filter, Find, get, intersect,\n",
      "    is.unsorted, lapply, Map, mapply, match, mget, order, paste, pmax,\n",
      "    pmax.int, pmin, pmin.int, Position, rank, rbind, Reduce, rep.int,\n",
      "    rownames, sapply, setdiff, sort, table, tapply, union, unique,\n",
      "    unlist, unsplit\n",
      "\n",
      "Loading required package: Biobase\n",
      "Welcome to Bioconductor\n",
      "\n",
      "    Vignettes contain introductory material; view with\n",
      "    'browseVignettes()'. To cite Bioconductor, see\n",
      "    'citation(\"Biobase\")', and for packages 'citation(\"pkgname\")'.\n",
      "\n",
      "Loading required package: locfit\n",
      "locfit 1.5-9.1 \t 2013-03-22\n",
      "Loading required package: lattice\n",
      "    Welcome to 'DESeq'. For improved performance, usability and\n",
      "    functionality, please consider migrating to 'DESeq2'.\n"
     ]
    }
   ],
   "source": [
    "library(\"DESeq\")"
   ]
  },
  {
   "cell_type": "markdown",
   "metadata": {},
   "source": [
    "# Input data and preparations\n",
    "## 1. The count table"
   ]
  },
  {
   "cell_type": "code",
   "execution_count": 5,
   "metadata": {
    "collapsed": false
   },
   "outputs": [],
   "source": [
    "CountData = read.table(\"./counts_for_deseq.txt\",header=T,sep='\\t',row.names = 1)"
   ]
  },
  {
   "cell_type": "code",
   "execution_count": 6,
   "metadata": {
    "collapsed": false
   },
   "outputs": [
    {
     "data": {
      "text/html": [
       "<table>\n",
       "<thead><tr><th></th><th scope=col>C20_2</th><th scope=col>C20_3</th><th scope=col>NC</th></tr></thead>\n",
       "<tbody>\n",
       "\t<tr><th scope=row>ENSG00000000003</th><td>976</td><td>1443</td><td>1452</td></tr>\n",
       "\t<tr><th scope=row>ENSG00000000005</th><td>49</td><td>56</td><td>30</td></tr>\n",
       "\t<tr><th scope=row>ENSG00000000419</th><td>1904</td><td>1112</td><td>2507</td></tr>\n",
       "\t<tr><th scope=row>ENSG00000000457</th><td>216</td><td>254</td><td>254</td></tr>\n",
       "\t<tr><th scope=row>ENSG00000000460</th><td>596</td><td>670</td><td>729</td></tr>\n",
       "\t<tr><th scope=row>ENSG00000000938</th><td>1</td><td>1</td><td>4</td></tr>\n",
       "</tbody>\n",
       "</table>\n"
      ],
      "text/latex": [
       "\\begin{tabular}{r|lll}\n",
       "  & C20_2 & C20_3 & NC\\\\\n",
       "\\hline\n",
       "\tENSG00000000003 & 976 & 1443 & 1452\\\\\n",
       "\tENSG00000000005 & 49 & 56 & 30\\\\\n",
       "\tENSG00000000419 & 1904 & 1112 & 2507\\\\\n",
       "\tENSG00000000457 & 216 & 254 & 254\\\\\n",
       "\tENSG00000000460 & 596 & 670 & 729\\\\\n",
       "\tENSG00000000938 & 1 & 1 & 4\\\\\n",
       "\\end{tabular}\n"
      ],
      "text/plain": [
       "                C20_2 C20_3   NC\n",
       "ENSG00000000003   976  1443 1452\n",
       "ENSG00000000005    49    56   30\n",
       "ENSG00000000419  1904  1112 2507\n",
       "ENSG00000000457   216   254  254\n",
       "ENSG00000000460   596   670  729\n",
       "ENSG00000000938     1     1    4"
      ]
     },
     "execution_count": 6,
     "metadata": {},
     "output_type": "execute_result"
    }
   ],
   "source": [
    "head(CountData)"
   ]
  },
  {
   "cell_type": "code",
   "execution_count": 7,
   "metadata": {
    "collapsed": false
   },
   "outputs": [
    {
     "data": {
      "text/html": [
       "<ol class=list-inline>\n",
       "\t<li>57736</li>\n",
       "\t<li>3</li>\n",
       "</ol>\n"
      ],
      "text/latex": [
       "\\begin{enumerate*}\n",
       "\\item 57736\n",
       "\\item 3\n",
       "\\end{enumerate*}\n"
      ],
      "text/markdown": [
       "1. 57736\n",
       "2. 3\n",
       "\n",
       "\n"
      ],
      "text/plain": [
       "[1] 57736     3"
      ]
     },
     "execution_count": 7,
     "metadata": {},
     "output_type": "execute_result"
    }
   ],
   "source": [
    "dim(CountData)"
   ]
  },
  {
   "cell_type": "code",
   "execution_count": 8,
   "metadata": {
    "collapsed": false
   },
   "outputs": [
    {
     "name": "stdout",
     "output_type": "stream",
     "text": [
      "[1] 20184     3\n"
     ]
    },
    {
     "data": {
      "text/html": [
       "<table>\n",
       "<thead><tr><th></th><th scope=col>C20_2</th><th scope=col>C20_3</th><th scope=col>NC</th></tr></thead>\n",
       "<tbody>\n",
       "\t<tr><th scope=row>ENSG00000000003</th><td>977</td><td>1444</td><td>1453</td></tr>\n",
       "\t<tr><th scope=row>ENSG00000000005</th><td>50</td><td>57</td><td>31</td></tr>\n",
       "\t<tr><th scope=row>ENSG00000000419</th><td>1905</td><td>1113</td><td>2508</td></tr>\n",
       "\t<tr><th scope=row>ENSG00000000457</th><td>217</td><td>255</td><td>255</td></tr>\n",
       "\t<tr><th scope=row>ENSG00000000460</th><td>597</td><td>671</td><td>730</td></tr>\n",
       "\t<tr><th scope=row>ENSG00000001036</th><td>811</td><td>692</td><td>1024</td></tr>\n",
       "</tbody>\n",
       "</table>\n"
      ],
      "text/latex": [
       "\\begin{tabular}{r|lll}\n",
       "  & C20_2 & C20_3 & NC\\\\\n",
       "\\hline\n",
       "\tENSG00000000003 & 977 & 1444 & 1453\\\\\n",
       "\tENSG00000000005 & 50 & 57 & 31\\\\\n",
       "\tENSG00000000419 & 1905 & 1113 & 2508\\\\\n",
       "\tENSG00000000457 & 217 & 255 & 255\\\\\n",
       "\tENSG00000000460 & 597 & 671 & 730\\\\\n",
       "\tENSG00000001036 & 811 & 692 & 1024\\\\\n",
       "\\end{tabular}\n"
      ],
      "text/plain": [
       "                C20_2 C20_3   NC\n",
       "ENSG00000000003   977  1444 1453\n",
       "ENSG00000000005    50    57   31\n",
       "ENSG00000000419  1905  1113 2508\n",
       "ENSG00000000457   217   255  255\n",
       "ENSG00000000460   597   671  730\n",
       "ENSG00000001036   811   692 1024"
      ]
     },
     "execution_count": 8,
     "metadata": {},
     "output_type": "execute_result"
    }
   ],
   "source": [
    "# filtering low count reads\n",
    "count = CountData[rowSums(CountData>10)>2,]\n",
    "count = count + 1\n",
    "print(dim(count))\n",
    "head(count)"
   ]
  },
  {
   "cell_type": "markdown",
   "metadata": {},
   "source": [
    "## 2. The  Meta Data--sample Info"
   ]
  },
  {
   "cell_type": "code",
   "execution_count": 9,
   "metadata": {
    "collapsed": true
   },
   "outputs": [],
   "source": [
    "sample = c('C20_2','C20_3','NC')\n",
    "condition =factor(c('C20_2','C20_3','NC'))\n",
    "expTab = data.frame(condition,row.names= sample)"
   ]
  },
  {
   "cell_type": "code",
   "execution_count": 10,
   "metadata": {
    "collapsed": true
   },
   "outputs": [],
   "source": [
    "count = count[,sample]"
   ]
  },
  {
   "cell_type": "code",
   "execution_count": 11,
   "metadata": {
    "collapsed": false
   },
   "outputs": [
    {
     "data": {
      "text/html": [
       "<table>\n",
       "<thead><tr><th></th><th scope=col>C20_2</th><th scope=col>C20_3</th><th scope=col>NC</th></tr></thead>\n",
       "<tbody>\n",
       "\t<tr><th scope=row>ENSG00000000003</th><td>977</td><td>1444</td><td>1453</td></tr>\n",
       "\t<tr><th scope=row>ENSG00000000005</th><td>50</td><td>57</td><td>31</td></tr>\n",
       "\t<tr><th scope=row>ENSG00000000419</th><td>1905</td><td>1113</td><td>2508</td></tr>\n",
       "\t<tr><th scope=row>ENSG00000000457</th><td>217</td><td>255</td><td>255</td></tr>\n",
       "\t<tr><th scope=row>ENSG00000000460</th><td>597</td><td>671</td><td>730</td></tr>\n",
       "\t<tr><th scope=row>ENSG00000001036</th><td>811</td><td>692</td><td>1024</td></tr>\n",
       "</tbody>\n",
       "</table>\n"
      ],
      "text/latex": [
       "\\begin{tabular}{r|lll}\n",
       "  & C20_2 & C20_3 & NC\\\\\n",
       "\\hline\n",
       "\tENSG00000000003 & 977 & 1444 & 1453\\\\\n",
       "\tENSG00000000005 & 50 & 57 & 31\\\\\n",
       "\tENSG00000000419 & 1905 & 1113 & 2508\\\\\n",
       "\tENSG00000000457 & 217 & 255 & 255\\\\\n",
       "\tENSG00000000460 & 597 & 671 & 730\\\\\n",
       "\tENSG00000001036 & 811 & 692 & 1024\\\\\n",
       "\\end{tabular}\n"
      ],
      "text/plain": [
       "                C20_2 C20_3   NC\n",
       "ENSG00000000003   977  1444 1453\n",
       "ENSG00000000005    50    57   31\n",
       "ENSG00000000419  1905  1113 2508\n",
       "ENSG00000000457   217   255  255\n",
       "ENSG00000000460   597   671  730\n",
       "ENSG00000001036   811   692 1024"
      ]
     },
     "execution_count": 11,
     "metadata": {},
     "output_type": "execute_result"
    }
   ],
   "source": [
    "head(count)"
   ]
  },
  {
   "cell_type": "code",
   "execution_count": 12,
   "metadata": {
    "collapsed": false
   },
   "outputs": [
    {
     "data": {
      "text/html": [
       "<table>\n",
       "<thead><tr><th></th><th scope=col>C20_2</th><th scope=col>C20_3</th><th scope=col>NC</th></tr></thead>\n",
       "<tbody>\n",
       "\t<tr><th scope=row>ENSG00000273451</th><td>115</td><td>194</td><td>98</td></tr>\n",
       "\t<tr><th scope=row>ENSG00000273474</th><td>19</td><td>22</td><td>18</td></tr>\n",
       "\t<tr><th scope=row>ENSG00000273478</th><td>23</td><td>40</td><td>16</td></tr>\n",
       "\t<tr><th scope=row>ENSG00000273486</th><td>36</td><td>54</td><td>69</td></tr>\n",
       "\t<tr><th scope=row>ENSG00000273488</th><td>23</td><td>12</td><td>35</td></tr>\n",
       "\t<tr><th scope=row>ENSG00000273489</th><td>63</td><td>94</td><td>96</td></tr>\n",
       "</tbody>\n",
       "</table>\n"
      ],
      "text/latex": [
       "\\begin{tabular}{r|lll}\n",
       "  & C20_2 & C20_3 & NC\\\\\n",
       "\\hline\n",
       "\tENSG00000273451 & 115 & 194 & 98\\\\\n",
       "\tENSG00000273474 & 19 & 22 & 18\\\\\n",
       "\tENSG00000273478 & 23 & 40 & 16\\\\\n",
       "\tENSG00000273486 & 36 & 54 & 69\\\\\n",
       "\tENSG00000273488 & 23 & 12 & 35\\\\\n",
       "\tENSG00000273489 & 63 & 94 & 96\\\\\n",
       "\\end{tabular}\n"
      ],
      "text/plain": [
       "                C20_2 C20_3 NC\n",
       "ENSG00000273451   115   194 98\n",
       "ENSG00000273474    19    22 18\n",
       "ENSG00000273478    23    40 16\n",
       "ENSG00000273486    36    54 69\n",
       "ENSG00000273488    23    12 35\n",
       "ENSG00000273489    63    94 96"
      ]
     },
     "execution_count": 12,
     "metadata": {},
     "output_type": "execute_result"
    }
   ],
   "source": [
    "tail(count)"
   ]
  },
  {
   "cell_type": "code",
   "execution_count": 13,
   "metadata": {
    "collapsed": false
   },
   "outputs": [],
   "source": [
    "newCount = newCountDataSet(count,condition) # setup CountDataSet \n",
    "newCount2 = newCountDataSet(count[,c(1,3)],condition=c(\"C20_2\",\"NC\"))\n",
    "newCount3 = newCountDataSet(count[,c(2,3)],condition=c(\"C20_3\",\"NC\"))"
   ]
  },
  {
   "cell_type": "code",
   "execution_count": 14,
   "metadata": {
    "collapsed": false
   },
   "outputs": [
    {
     "data": {
      "text/plain": [
       "CountDataSet (storageMode: environment)\n",
       "assayData: 1 features, 3 samples \n",
       "  element names: counts \n",
       "protocolData: none\n",
       "phenoData\n",
       "  sampleNames: C20_2 C20_3 NC\n",
       "  varLabels: sizeFactor condition\n",
       "  varMetadata: labelDescription\n",
       "featureData: none\n",
       "experimentData: use 'experimentData(object)'\n",
       "Annotation:  "
      ]
     },
     "execution_count": 14,
     "metadata": {},
     "output_type": "execute_result"
    }
   ],
   "source": [
    "tail(newCount)"
   ]
  },
  {
   "cell_type": "markdown",
   "metadata": {},
   "source": [
    "## 3. Normalization"
   ]
  },
  {
   "cell_type": "code",
   "execution_count": 15,
   "metadata": {
    "collapsed": true
   },
   "outputs": [],
   "source": [
    "cds = estimateSizeFactors(newCount)"
   ]
  },
  {
   "cell_type": "code",
   "execution_count": 16,
   "metadata": {
    "collapsed": false
   },
   "outputs": [
    {
     "data": {
      "text/html": [
       "<dl class=dl-horizontal>\n",
       "\t<dt>C20_2</dt>\n",
       "\t\t<dd>0.918249619399556</dd>\n",
       "\t<dt>C20_3</dt>\n",
       "\t\t<dd>0.949914251592996</dd>\n",
       "\t<dt>NC</dt>\n",
       "\t\t<dd>1.14228160365727</dd>\n",
       "</dl>\n"
      ],
      "text/latex": [
       "\\begin{description*}\n",
       "\\item[C20_2] 0.918249619399556\n",
       "\\item[C20_3] 0.949914251592996\n",
       "\\item[NC] 1.14228160365727\n",
       "\\end{description*}\n"
      ],
      "text/markdown": [
       "C20_2\n",
       ":   0.918249619399556C20_3\n",
       ":   0.949914251592996NC\n",
       ":   1.14228160365727\n",
       "\n"
      ],
      "text/plain": [
       "    C20_2     C20_3        NC \n",
       "0.9182496 0.9499143 1.1422816 "
      ]
     },
     "execution_count": 16,
     "metadata": {},
     "output_type": "execute_result"
    }
   ],
   "source": [
    "sizeFactors(cds)"
   ]
  },
  {
   "cell_type": "code",
   "execution_count": 17,
   "metadata": {
    "collapsed": false
   },
   "outputs": [
    {
     "data": {
      "text/html": [
       "<table>\n",
       "<thead><tr><th></th><th scope=col>C20_2</th><th scope=col>C20_3</th><th scope=col>NC</th></tr></thead>\n",
       "<tbody>\n",
       "\t<tr><th scope=row>ENSG00000000003</th><td>1063.981</td><td>1520.137</td><td>1272.016</td></tr>\n",
       "\t<tr><th scope=row>ENSG00000000005</th><td>54.45142</td><td>60.00542</td><td>27.13867</td></tr>\n",
       "\t<tr><th scope=row>ENSG00000000419</th><td>2074.599</td><td>1171.685</td><td>2195.606</td></tr>\n",
       "\t<tr><th scope=row>ENSG00000000457</th><td>236.3192</td><td>268.4453</td><td>223.2374</td></tr>\n",
       "\t<tr><th scope=row>ENSG00000000460</th><td>650.1500</td><td>706.3795</td><td>639.0718</td></tr>\n",
       "\t<tr><th scope=row>ENSG00000001036</th><td>883.2021</td><td>728.4868</td><td>896.4515</td></tr>\n",
       "</tbody>\n",
       "</table>\n"
      ],
      "text/latex": [
       "\\begin{tabular}{r|lll}\n",
       "  & C20_2 & C20_3 & NC\\\\\n",
       "\\hline\n",
       "\tENSG00000000003 & 1063.981 & 1520.137 & 1272.016\\\\\n",
       "\tENSG00000000005 & 54.45142 & 60.00542 & 27.13867\\\\\n",
       "\tENSG00000000419 & 2074.599 & 1171.685 & 2195.606\\\\\n",
       "\tENSG00000000457 & 236.3192 & 268.4453 & 223.2374\\\\\n",
       "\tENSG00000000460 & 650.1500 & 706.3795 & 639.0718\\\\\n",
       "\tENSG00000001036 & 883.2021 & 728.4868 & 896.4515\\\\\n",
       "\\end{tabular}\n"
      ],
      "text/markdown": [
       "1. 1063.98083849886\n",
       "2. 54.4514246928793\n",
       "3. 2074.5992807987\n",
       "4. 236.319183167096\n",
       "5. 650.150010832979\n",
       "6. 883.202108518502\n",
       "7. 1520.13720983597\n",
       "8. 60.0054161777356\n",
       "9. 1171.68470536526\n",
       "10. 268.445282900396\n",
       "11. 706.379548337905\n",
       "12. 728.486806929702\n",
       "13. 1272.01558297699\n",
       "14. 27.1386669458271\n",
       "15. 2195.60570000433\n",
       "16. 223.237421651158\n",
       "17. 639.071834530767\n",
       "18. 896.451450081515\n",
       "\n",
       "\n"
      ],
      "text/plain": [
       "                     C20_2      C20_3         NC\n",
       "ENSG00000000003 1063.98084 1520.13721 1272.01558\n",
       "ENSG00000000005   54.45142   60.00542   27.13867\n",
       "ENSG00000000419 2074.59928 1171.68471 2195.60570\n",
       "ENSG00000000457  236.31918  268.44528  223.23742\n",
       "ENSG00000000460  650.15001  706.37955  639.07183\n",
       "ENSG00000001036  883.20211  728.48681  896.45145"
      ]
     },
     "execution_count": 17,
     "metadata": {},
     "output_type": "execute_result"
    }
   ],
   "source": [
    "head(counts(cds,normalize=T))"
   ]
  },
  {
   "cell_type": "markdown",
   "metadata": {},
   "source": [
    "## 4. Variance Estimation\n",
    "\n",
    "### 4.1 Working without any replicates"
   ]
  },
  {
   "cell_type": "code",
   "execution_count": 18,
   "metadata": {
    "collapsed": false
   },
   "outputs": [],
   "source": [
    "cds2 = cds[,c(\"C20_2\",\"NC\")]\n",
    "cds3 = cds[,c(\"C20_3\",\"NC\")]"
   ]
  },
  {
   "cell_type": "code",
   "execution_count": 19,
   "metadata": {
    "collapsed": false
   },
   "outputs": [
    {
     "data": {
      "text/html": [
       "<table>\n",
       "<thead><tr><th></th><th scope=col>sizeFactor</th><th scope=col>condition</th></tr></thead>\n",
       "<tbody>\n",
       "\t<tr><th scope=row>C20_2</th><td>0.9182496</td><td>C20_2</td></tr>\n",
       "\t<tr><th scope=row>NC</th><td>1.142282</td><td>NC</td></tr>\n",
       "</tbody>\n",
       "</table>\n"
      ],
      "text/latex": [
       "\\begin{tabular}{r|ll}\n",
       "  & sizeFactor & condition\\\\\n",
       "\\hline\n",
       "\tC20_2 & 0.9182496 & C20_2\\\\\n",
       "\tNC & 1.142282 & NC\\\\\n",
       "\\end{tabular}\n"
      ],
      "text/plain": [
       "      sizeFactor condition\n",
       "C20_2  0.9182496     C20_2\n",
       "NC     1.1422816        NC"
      ]
     },
     "execution_count": 19,
     "metadata": {},
     "output_type": "execute_result"
    }
   ],
   "source": [
    "pData(cds2)"
   ]
  },
  {
   "cell_type": "code",
   "execution_count": 20,
   "metadata": {
    "collapsed": false
   },
   "outputs": [],
   "source": [
    "cds2= estimateDispersions(cds2,method=\"blind\",sharingMode=\"fit-only\")\n",
    "cds3= estimateDispersions(cds3,method=\"blind\",sharingMode=\"fit-only\")"
   ]
  },
  {
   "cell_type": "code",
   "execution_count": 21,
   "metadata": {
    "collapsed": false
   },
   "outputs": [
    {
     "name": "stdout",
     "output_type": "stream",
     "text": [
      "List of 5\n",
      " $ perGeneDispEsts: num [1:20184] 0.01502 0.20005 0.00115 -0.00265 -0.00138 ...\n",
      " $ dispFunc       :function (q)  \n",
      "  ..- attr(*, \"coefficients\")= Named num [1:2] 0.0218 3.7896\n",
      "  .. ..- attr(*, \"names\")= chr [1:2] \"asymptDisp\" \"extraPois\"\n",
      "  ..- attr(*, \"fitType\")= chr \"parametric\"\n",
      " $ fittedDispEsts : num [1:20184] 0.025 0.1147 0.0236 0.0383 0.0277 ...\n",
      " $ df             : num 1\n",
      " $ sharingMode    : chr \"fit-only\"\n"
     ]
    }
   ],
   "source": [
    "str(fitInfo(cds2))"
   ]
  },
  {
   "cell_type": "markdown",
   "metadata": {},
   "source": [
    "### Calling Differential Expression"
   ]
  },
  {
   "cell_type": "code",
   "execution_count": 22,
   "metadata": {
    "collapsed": false
   },
   "outputs": [],
   "source": [
    "res2 = nbinomTest(cds2,\"C20_2\",\"NC\")"
   ]
  },
  {
   "cell_type": "code",
   "execution_count": 23,
   "metadata": {
    "collapsed": false
   },
   "outputs": [],
   "source": [
    "res3 = nbinomTest(cds3,\"C20_3\",\"NC\")"
   ]
  },
  {
   "cell_type": "code",
   "execution_count": 24,
   "metadata": {
    "collapsed": false
   },
   "outputs": [
    {
     "data": {
      "text/html": [
       "<table>\n",
       "<thead><tr><th></th><th scope=col>id</th><th scope=col>baseMean</th><th scope=col>baseMeanA</th><th scope=col>baseMeanB</th><th scope=col>foldChange</th><th scope=col>log2FoldChange</th><th scope=col>pval</th><th scope=col>padj</th></tr></thead>\n",
       "<tbody>\n",
       "\t<tr><th scope=row>1</th><td>ENSG00000000003</td><td>1167.998</td><td>1063.981</td><td>1272.016</td><td>1.195525</td><td>0.2576442</td><td>0.4393205</td><td>1</td></tr>\n",
       "\t<tr><th scope=row>2</th><td>ENSG00000000005</td><td>40.79505</td><td>54.45142</td><td>27.13867</td><td>0.4984014</td><td>-1.00462</td><td>0.2174777</td><td>1</td></tr>\n",
       "\t<tr><th scope=row>3</th><td>ENSG00000000419</td><td>2135.102</td><td>2074.599</td><td>2195.606</td><td>1.058328</td><td>0.08178629</td><td>0.7994844</td><td>1</td></tr>\n",
       "\t<tr><th scope=row>4</th><td>ENSG00000000457</td><td>229.7783</td><td>236.3192</td><td>223.2374</td><td>0.9446437</td><td>-0.08215786</td><td>0.8581386</td><td>1</td></tr>\n",
       "\t<tr><th scope=row>5</th><td>ENSG00000000460</td><td>644.6109</td><td>650.15</td><td>639.0718</td><td>0.9829606</td><td>-0.02479453</td><td>0.9487017</td><td>1</td></tr>\n",
       "\t<tr><th scope=row>6</th><td>ENSG00000001036</td><td>889.8268</td><td>883.2021</td><td>896.4515</td><td>1.015001</td><td>0.02148184</td><td>0.9534498</td><td>1</td></tr>\n",
       "</tbody>\n",
       "</table>\n"
      ],
      "text/latex": [
       "\\begin{tabular}{r|llllllll}\n",
       "  & id & baseMean & baseMeanA & baseMeanB & foldChange & log2FoldChange & pval & padj\\\\\n",
       "\\hline\n",
       "\t1 & ENSG00000000003 & 1167.998 & 1063.981 & 1272.016 & 1.195525 & 0.2576442 & 0.4393205 & 1\\\\\n",
       "\t2 & ENSG00000000005 & 40.79505 & 54.45142 & 27.13867 & 0.4984014 & -1.00462 & 0.2174777 & 1\\\\\n",
       "\t3 & ENSG00000000419 & 2135.102 & 2074.599 & 2195.606 & 1.058328 & 0.08178629 & 0.7994844 & 1\\\\\n",
       "\t4 & ENSG00000000457 & 229.7783 & 236.3192 & 223.2374 & 0.9446437 & -0.08215786 & 0.8581386 & 1\\\\\n",
       "\t5 & ENSG00000000460 & 644.6109 & 650.15 & 639.0718 & 0.9829606 & -0.02479453 & 0.9487017 & 1\\\\\n",
       "\t6 & ENSG00000001036 & 889.8268 & 883.2021 & 896.4515 & 1.015001 & 0.02148184 & 0.9534498 & 1\\\\\n",
       "\\end{tabular}\n"
      ],
      "text/plain": [
       "               id   baseMean  baseMeanA  baseMeanB foldChange log2FoldChange\n",
       "1 ENSG00000000003 1167.99821 1063.98084 1272.01558  1.1955249     0.25764418\n",
       "2 ENSG00000000005   40.79505   54.45142   27.13867  0.4984014    -1.00461994\n",
       "3 ENSG00000000419 2135.10249 2074.59928 2195.60570  1.0583276     0.08178629\n",
       "4 ENSG00000000457  229.77830  236.31918  223.23742  0.9446437    -0.08215786\n",
       "5 ENSG00000000460  644.61092  650.15001  639.07183  0.9829606    -0.02479453\n",
       "6 ENSG00000001036  889.82678  883.20211  896.45145  1.0150015     0.02148184\n",
       "       pval padj\n",
       "1 0.4393205    1\n",
       "2 0.2174777    1\n",
       "3 0.7994844    1\n",
       "4 0.8581386    1\n",
       "5 0.9487017    1\n",
       "6 0.9534498    1"
      ]
     },
     "execution_count": 24,
     "metadata": {},
     "output_type": "execute_result"
    }
   ],
   "source": [
    "head(res2)"
   ]
  },
  {
   "cell_type": "code",
   "execution_count": 25,
   "metadata": {
    "collapsed": false
   },
   "outputs": [],
   "source": [
    "res_sig2 = subset(res2,pval <=0.05)\n",
    "res_sig_order2 = res_sig2[order(res_sig2$pval),]\n",
    "write.csv(res_sig_order2,\"C20_2_VS_NC.csv\",row.names=F)"
   ]
  },
  {
   "cell_type": "code",
   "execution_count": 26,
   "metadata": {
    "collapsed": false
   },
   "outputs": [],
   "source": [
    "res_sig3 = subset(res3,pval <=0.05)\n",
    "res_sig_order3 = res_sig3[order(res_sig3$pval),]\n",
    "write.csv(res_sig_order3,\"C20_3_VS_NC.csv\",row.names=F)"
   ]
  },
  {
   "cell_type": "code",
   "execution_count": 27,
   "metadata": {
    "collapsed": false
   },
   "outputs": [],
   "source": [
    "#hist(res15$pval,breaks=100,col='skyblue',border=\"slateblue\",main=\"\")"
   ]
  },
  {
   "cell_type": "code",
   "execution_count": 25,
   "metadata": {
    "collapsed": true
   },
   "outputs": [],
   "source": [
    "res2$padj1 = p.adjust(res2$pval,method=\"BH\")"
   ]
  },
  {
   "cell_type": "code",
   "execution_count": 26,
   "metadata": {
    "collapsed": false
   },
   "outputs": [
    {
     "data": {
      "text/html": [
       "<table>\n",
       "<thead><tr><th></th><th scope=col>id</th><th scope=col>baseMean</th><th scope=col>baseMeanA</th><th scope=col>baseMeanB</th><th scope=col>foldChange</th><th scope=col>log2FoldChange</th><th scope=col>pval</th><th scope=col>padj</th><th scope=col>padj1</th></tr></thead>\n",
       "<tbody>\n",
       "</tbody>\n",
       "</table>\n"
      ],
      "text/latex": [
       "\\begin{tabular}{r|lllllllll}\n",
       "  & id & baseMean & baseMeanA & baseMeanB & foldChange & log2FoldChange & pval & padj & padj1\\\\\n",
       "\\hline\n",
       "\\end{tabular}\n"
      ],
      "text/plain": [
       "[1] id             baseMean       baseMeanA      baseMeanB      foldChange    \n",
       "[6] log2FoldChange pval           padj           padj1         \n",
       "<0 rows> (or 0-length row.names)"
      ]
     },
     "execution_count": 26,
     "metadata": {},
     "output_type": "execute_result"
    }
   ],
   "source": [
    "subset(res2,padj!=padj1)"
   ]
  },
  {
   "cell_type": "code",
   "execution_count": 27,
   "metadata": {
    "collapsed": false
   },
   "outputs": [],
   "source": [
    "res_sig_new2 = subset(res2, padj <=0.1)"
   ]
  },
  {
   "cell_type": "code",
   "execution_count": 28,
   "metadata": {
    "collapsed": false
   },
   "outputs": [
    {
     "data": {
      "text/html": [
       "<table>\n",
       "<thead><tr><th></th><th scope=col>id</th><th scope=col>baseMean</th><th scope=col>baseMeanA</th><th scope=col>baseMeanB</th><th scope=col>foldChange</th><th scope=col>log2FoldChange</th><th scope=col>pval</th><th scope=col>padj</th><th scope=col>padj1</th></tr></thead>\n",
       "<tbody>\n",
       "\t<tr><th scope=row>64</th><td>ENSG00000005075</td><td>1073.155</td><td>560.4572</td><td>1585.853</td><td>2.829571</td><td>1.500583</td><td>1.096168e-05</td><td>0.004355871</td><td>0.004355871</td></tr>\n",
       "\t<tr><th scope=row>746</th><td>ENSG00000064300</td><td>175.1583</td><td>67.47251</td><td>282.8441</td><td>4.19199</td><td>2.067635</td><td>1.952875e-05</td><td>0.006943327</td><td>0.006943327</td></tr>\n",
       "\t<tr><th scope=row>791</th><td>ENSG00000065518</td><td>1822.558</td><td>997.9402</td><td>2647.175</td><td>2.652639</td><td>1.407428</td><td>1.760383e-05</td><td>0.00648653</td><td>0.00648653</td></tr>\n",
       "\t<tr><th scope=row>1552</th><td>ENSG00000088986</td><td>4864.45</td><td>2990.556</td><td>6738.344</td><td>2.253208</td><td>1.17198</td><td>0.000193716</td><td>0.04176435</td><td>0.04176435</td></tr>\n",
       "\t<tr><th scope=row>1645</th><td>ENSG00000091136</td><td>1683.041</td><td>1057.795</td><td>2308.288</td><td>2.18217</td><td>1.125763</td><td>0.0005769427</td><td>0.09993437</td><td>0.09993437</td></tr>\n",
       "\t<tr><th scope=row>2382</th><td>ENSG00000103275</td><td>3616.238</td><td>2139.532</td><td>5092.944</td><td>2.380402</td><td>1.251205</td><td>8.088253e-05</td><td>0.02185554</td><td>0.02185554</td></tr>\n",
       "</tbody>\n",
       "</table>\n"
      ],
      "text/latex": [
       "\\begin{tabular}{r|lllllllll}\n",
       "  & id & baseMean & baseMeanA & baseMeanB & foldChange & log2FoldChange & pval & padj & padj1\\\\\n",
       "\\hline\n",
       "\t64 & ENSG00000005075 & 1073.155 & 560.4572 & 1585.853 & 2.829571 & 1.500583 & 1.096168e-05 & 0.004355871 & 0.004355871\\\\\n",
       "\t746 & ENSG00000064300 & 175.1583 & 67.47251 & 282.8441 & 4.19199 & 2.067635 & 1.952875e-05 & 0.006943327 & 0.006943327\\\\\n",
       "\t791 & ENSG00000065518 & 1822.558 & 997.9402 & 2647.175 & 2.652639 & 1.407428 & 1.760383e-05 & 0.00648653 & 0.00648653\\\\\n",
       "\t1552 & ENSG00000088986 & 4864.45 & 2990.556 & 6738.344 & 2.253208 & 1.17198 & 0.000193716 & 0.04176435 & 0.04176435\\\\\n",
       "\t1645 & ENSG00000091136 & 1683.041 & 1057.795 & 2308.288 & 2.18217 & 1.125763 & 0.0005769427 & 0.09993437 & 0.09993437\\\\\n",
       "\t2382 & ENSG00000103275 & 3616.238 & 2139.532 & 5092.944 & 2.380402 & 1.251205 & 8.088253e-05 & 0.02185554 & 0.02185554\\\\\n",
       "\\end{tabular}\n"
      ],
      "text/plain": [
       "                  id  baseMean  baseMeanA baseMeanB foldChange log2FoldChange\n",
       "64   ENSG00000005075 1073.1552  560.45715 1585.8532   2.829571       1.500583\n",
       "746  ENSG00000064300  175.1583   67.47251  282.8441   4.191990       2.067635\n",
       "791  ENSG00000065518 1822.5577  997.94021 2647.1752   2.652639       1.407428\n",
       "1552 ENSG00000088986 4864.4498 2990.55582 6738.3438   2.253208       1.171980\n",
       "1645 ENSG00000091136 1683.0413 1057.79486 2308.2878   2.182170       1.125763\n",
       "2382 ENSG00000103275 3616.2380 2139.53157 5092.9444   2.380402       1.251205\n",
       "             pval        padj       padj1\n",
       "64   1.096168e-05 0.004355871 0.004355871\n",
       "746  1.952875e-05 0.006943327 0.006943327\n",
       "791  1.760383e-05 0.006486530 0.006486530\n",
       "1552 1.937160e-04 0.041764346 0.041764346\n",
       "1645 5.769427e-04 0.099934371 0.099934371\n",
       "2382 8.088253e-05 0.021855539 0.021855539"
      ]
     },
     "execution_count": 28,
     "metadata": {},
     "output_type": "execute_result"
    }
   ],
   "source": [
    "head(res_sig_new2)"
   ]
  },
  {
   "cell_type": "code",
   "execution_count": 52,
   "metadata": {
    "collapsed": false
   },
   "outputs": [
    {
     "data": {
      "text/html": [
       "<ol class=list-inline>\n",
       "\t<li>117</li>\n",
       "\t<li>9</li>\n",
       "</ol>\n"
      ],
      "text/latex": [
       "\\begin{enumerate*}\n",
       "\\item 117\n",
       "\\item 9\n",
       "\\end{enumerate*}\n"
      ],
      "text/markdown": [
       "1. 117\n",
       "2. 9\n",
       "\n",
       "\n"
      ],
      "text/plain": [
       "[1] 117   9"
      ]
     },
     "execution_count": 52,
     "metadata": {},
     "output_type": "execute_result"
    }
   ],
   "source": [
    "dim(res_sig_new2)"
   ]
  },
  {
   "cell_type": "code",
   "execution_count": 28,
   "metadata": {
    "collapsed": false
   },
   "outputs": [],
   "source": [
    "res_sig_order = res_sig[order(res_sig$padj1),]"
   ]
  },
  {
   "cell_type": "code",
   "execution_count": 29,
   "metadata": {
    "collapsed": false
   },
   "outputs": [
    {
     "data": {
      "text/html": [
       "<table>\n",
       "<thead><tr><th></th><th scope=col>id</th><th scope=col>baseMean</th><th scope=col>baseMeanA</th><th scope=col>baseMeanB</th><th scope=col>foldChange</th><th scope=col>log2FoldChange</th><th scope=col>pval</th><th scope=col>padj</th><th scope=col>padj1</th></tr></thead>\n",
       "<tbody>\n",
       "\t<tr><th scope=row>15597</th><td>ENSMUSG00000076258.1</td><td>9878.281</td><td>19068.2</td><td>688.3652</td><td>0.03610017</td><td>-4.79185</td><td>2.975773e-27</td><td>5.948272e-23</td><td>5.948272e-23</td></tr>\n",
       "\t<tr><th scope=row>19356</th><td>ENSMUSG00000098973.1</td><td>1711.912</td><td>3318.01</td><td>105.8139</td><td>0.03189076</td><td>-4.970718</td><td>1.700659e-26</td><td>1.699724e-22</td><td>1.699724e-22</td></tr>\n",
       "\t<tr><th scope=row>19302</th><td>ENSMUSG00000098178.1</td><td>51722.59</td><td>98546.12</td><td>4899.067</td><td>0.04971344</td><td>-4.33022</td><td>7.912087e-24</td><td>5.271824e-20</td><td>5.271824e-20</td></tr>\n",
       "\t<tr><th scope=row>10582</th><td>ENSMUSG00000041351.11</td><td>263.8229</td><td>8.927954</td><td>518.7179</td><td>58.10043</td><td>5.860477</td><td>5.418195e-21</td><td>2.707608e-17</td><td>2.707608e-17</td></tr>\n",
       "\t<tr><th scope=row>15497</th><td>ENSMUSG00000075014.1</td><td>646.021</td><td>1239.71</td><td>52.33185</td><td>0.04221298</td><td>-4.56617</td><td>1.41619e-20</td><td>5.661646e-17</td><td>5.661646e-17</td></tr>\n",
       "\t<tr><th scope=row>15599</th><td>ENSMUSG00000076281.1</td><td>363.9621</td><td>707.2215</td><td>20.70271</td><td>0.02927331</td><td>-5.09427</td><td>1.888503e-20</td><td>6.291546e-17</td><td>6.291546e-17</td></tr>\n",
       "</tbody>\n",
       "</table>\n"
      ],
      "text/latex": [
       "\\begin{tabular}{r|lllllllll}\n",
       "  & id & baseMean & baseMeanA & baseMeanB & foldChange & log2FoldChange & pval & padj & padj1\\\\\n",
       "\\hline\n",
       "\t15597 & ENSMUSG00000076258.1 & 9878.281 & 19068.2 & 688.3652 & 0.03610017 & -4.79185 & 2.975773e-27 & 5.948272e-23 & 5.948272e-23\\\\\n",
       "\t19356 & ENSMUSG00000098973.1 & 1711.912 & 3318.01 & 105.8139 & 0.03189076 & -4.970718 & 1.700659e-26 & 1.699724e-22 & 1.699724e-22\\\\\n",
       "\t19302 & ENSMUSG00000098178.1 & 51722.59 & 98546.12 & 4899.067 & 0.04971344 & -4.33022 & 7.912087e-24 & 5.271824e-20 & 5.271824e-20\\\\\n",
       "\t10582 & ENSMUSG00000041351.11 & 263.8229 & 8.927954 & 518.7179 & 58.10043 & 5.860477 & 5.418195e-21 & 2.707608e-17 & 2.707608e-17\\\\\n",
       "\t15497 & ENSMUSG00000075014.1 & 646.021 & 1239.71 & 52.33185 & 0.04221298 & -4.56617 & 1.41619e-20 & 5.661646e-17 & 5.661646e-17\\\\\n",
       "\t15599 & ENSMUSG00000076281.1 & 363.9621 & 707.2215 & 20.70271 & 0.02927331 & -5.09427 & 1.888503e-20 & 6.291546e-17 & 6.291546e-17\\\\\n",
       "\\end{tabular}\n"
      ],
      "text/plain": [
       "                         id   baseMean    baseMeanA  baseMeanB  foldChange\n",
       "15597  ENSMUSG00000076258.1  9878.2806 19068.196091  688.36516  0.03610017\n",
       "19356  ENSMUSG00000098973.1  1711.9121  3318.010242  105.81386  0.03189076\n",
       "19302  ENSMUSG00000098178.1 51722.5913 98546.115851 4899.06666  0.04971344\n",
       "10582 ENSMUSG00000041351.11   263.8229     8.927954  518.71794 58.10042863\n",
       "15497  ENSMUSG00000075014.1   646.0210  1239.710150   52.33185  0.04221298\n",
       "15599  ENSMUSG00000076281.1   363.9621   707.221480   20.70271  0.02927331\n",
       "      log2FoldChange         pval         padj        padj1\n",
       "15597      -4.791850 2.975773e-27 5.948272e-23 5.948272e-23\n",
       "19356      -4.970718 1.700659e-26 1.699724e-22 1.699724e-22\n",
       "19302      -4.330220 7.912087e-24 5.271824e-20 5.271824e-20\n",
       "10582       5.860477 5.418195e-21 2.707608e-17 2.707608e-17\n",
       "15497      -4.566170 1.416190e-20 5.661646e-17 5.661646e-17\n",
       "15599      -5.094270 1.888503e-20 6.291546e-17 6.291546e-17"
      ]
     },
     "execution_count": 29,
     "metadata": {},
     "output_type": "execute_result"
    }
   ],
   "source": [
    "head(res_sig_order)"
   ]
  },
  {
   "cell_type": "markdown",
   "metadata": {},
   "source": [
    "### Saving Results"
   ]
  },
  {
   "cell_type": "code",
   "execution_count": 30,
   "metadata": {
    "collapsed": true
   },
   "outputs": [],
   "source": [
    "write.csv(res_sig_order,file=\"WWR2_VS_KOR2.csv\",row.names=F)"
   ]
  },
  {
   "cell_type": "markdown",
   "metadata": {},
   "source": [
    "## RScripts for generating multi-comparsion files"
   ]
  },
  {
   "cell_type": "code",
   "execution_count": 23,
   "metadata": {
    "collapsed": false
   },
   "outputs": [],
   "source": [
    "\n",
    "# this script used for no biological replicates RNA-seq only. If you experiment design do have replicates, please refer to DESeq2\n",
    "# after setting up CountDataSet, run the functions below.\n",
    "\n",
    "deseq = function(rawCount,sample1,sample2,level1,level2,p=0.05,padj=0.1) {\n",
    "    #\n",
    "    #rawCount: accept the raw counts which you want to compare\n",
    "    #sample1, sample2: column names your want to compare\n",
    "    #level1, level2: levels or factors which sample1 or sampel 2 correspondes\n",
    "    #p: pvalue cutoff. Default:0.05\n",
    "    #padj: padj value cutoff. You can specify other values. Default:0.1\n",
    "  \n",
    "    newCount = newCountDataSet(rawCount[,c(sample1,sample2)],condition=c(level1,level2))\n",
    "    cds = estimateSizeFactors(newCount)\n",
    "    cds = estimateDispersions(cds,method=\"blind\",sharingMode=\"fit-only\")\n",
    "    res = nbinomTest(cds,level1,level2)\n",
    "    res_sig = res[res$pval<p,]\n",
    "    res_ordered = res_sig[order(res_sig$pval),]\n",
    "    write.csv(res_ordered,file=paste(level1,\"_VS_\",level2,\".csv\",sep=\"\"),row.names=F)\n",
    "}\n"
   ]
  },
  {
   "cell_type": "code",
   "execution_count": 22,
   "metadata": {
    "collapsed": false
   },
   "outputs": [
    {
     "data": {
      "text/html": [
       "<table>\n",
       "<thead><tr><th></th><th scope=col>W_W_R2.count</th><th scope=col>W_W_R3.count</th><th scope=col>W_H_R2.count</th><th scope=col>W_H_R3.count</th><th scope=col>KO_R2.count</th><th scope=col>KO_R3.count</th></tr></thead>\n",
       "<tbody>\n",
       "\t<tr><th scope=row>ENSMUSG00000000001.4</th><td>4883</td><td>1072</td><td>3324</td><td>969</td><td>6262</td><td>912</td></tr>\n",
       "\t<tr><th scope=row>ENSMUSG00000000003.10</th><td>111</td><td>54</td><td>187</td><td>70</td><td>189</td><td>96</td></tr>\n",
       "\t<tr><th scope=row>ENSMUSG00000000028.9</th><td>1471</td><td>917</td><td>1672</td><td>1093</td><td>1568</td><td>881</td></tr>\n",
       "\t<tr><th scope=row>ENSMUSG00000000031.10</th><td>449</td><td>376</td><td>547</td><td>706</td><td>376</td><td>297</td></tr>\n",
       "\t<tr><th scope=row>ENSMUSG00000000037.11</th><td>109</td><td>15</td><td>71</td><td>19</td><td>114</td><td>13</td></tr>\n",
       "\t<tr><th scope=row>ENSMUSG00000000049.6</th><td>24</td><td>18</td><td>28</td><td>24</td><td>33</td><td>9</td></tr>\n",
       "</tbody>\n",
       "</table>\n"
      ],
      "text/latex": [
       "\\begin{tabular}{r|llllll}\n",
       "  & W_W_R2.count & W_W_R3.count & W_H_R2.count & W_H_R3.count & KO_R2.count & KO_R3.count\\\\\n",
       "\\hline\n",
       "\tENSMUSG00000000001.4 & 4883 & 1072 & 3324 & 969 & 6262 & 912\\\\\n",
       "\tENSMUSG00000000003.10 & 111 & 54 & 187 & 70 & 189 & 96\\\\\n",
       "\tENSMUSG00000000028.9 & 1471 & 917 & 1672 & 1093 & 1568 & 881\\\\\n",
       "\tENSMUSG00000000031.10 & 449 & 376 & 547 & 706 & 376 & 297\\\\\n",
       "\tENSMUSG00000000037.11 & 109 & 15 & 71 & 19 & 114 & 13\\\\\n",
       "\tENSMUSG00000000049.6 & 24 & 18 & 28 & 24 & 33 & 9\\\\\n",
       "\\end{tabular}\n"
      ],
      "text/plain": [
       "                      W_W_R2.count W_W_R3.count W_H_R2.count W_H_R3.count\n",
       "ENSMUSG00000000001.4          4883         1072         3324          969\n",
       "ENSMUSG00000000003.10          111           54          187           70\n",
       "ENSMUSG00000000028.9          1471          917         1672         1093\n",
       "ENSMUSG00000000031.10          449          376          547          706\n",
       "ENSMUSG00000000037.11          109           15           71           19\n",
       "ENSMUSG00000000049.6            24           18           28           24\n",
       "                      KO_R2.count KO_R3.count\n",
       "ENSMUSG00000000001.4         6262         912\n",
       "ENSMUSG00000000003.10         189          96\n",
       "ENSMUSG00000000028.9         1568         881\n",
       "ENSMUSG00000000031.10         376         297\n",
       "ENSMUSG00000000037.11         114          13\n",
       "ENSMUSG00000000049.6           33           9"
      ]
     },
     "execution_count": 22,
     "metadata": {},
     "output_type": "execute_result"
    }
   ],
   "source": [
    "head(count)"
   ]
  },
  {
   "cell_type": "markdown",
   "metadata": {
    "collapsed": true
   },
   "source": [
    "# Rsrcipt for GO"
   ]
  },
  {
   "cell_type": "code",
   "execution_count": 27,
   "metadata": {
    "collapsed": false
   },
   "outputs": [
    {
     "name": "stderr",
     "output_type": "stream",
     "text": [
      "Loading required package: AnnotationDbi\n",
      "Loading required package: stats4\n",
      "Loading required package: GenomeInfoDb\n",
      "Loading required package: S4Vectors\n",
      "Loading required package: IRanges\n",
      "Loading required package: DBI\n",
      "\n"
     ]
    }
   ],
   "source": [
    "library(org.Hs.eg.db) #org.Hs.eg.db for mouse"
   ]
  },
  {
   "cell_type": "code",
   "execution_count": 40,
   "metadata": {
    "collapsed": true
   },
   "outputs": [],
   "source": [
    "annotation = function(res, sample1,sample2) {\n",
    "    \n",
    "    tmp=select(org.Hs.eg.db, keys=res$id, columns=c(\"ENTREZID\",\"SYMBOL\",\"GENENAME\"), keytype=\"ENSEMBL\")\n",
    "\n",
    "    res=merge(tmp, res,by.x='ENSEMBL',by.y='id',all=TRUE)\n",
    "    #go\n",
    "    tmp=select(org.Hs.eg.db, keys=res$ENSEMBL, columns='GO', keytype='ENSEMBL')\n",
    "    ensembl_go=unlist(tapply(tmp[,2],as.factor(tmp[,1]),function(x) paste(x,collapse ='|'),simplify =F))\n",
    "    #为res加入go注释，\n",
    "    res$go=ensembl_go[res$ENSEMBL]#为res加入一列go\n",
    "    #写入all——data\n",
    "    #all_res=res\n",
    "    #write.csv(res, file=paste(sample1,\"_vs_\",sample2,\".annotated.csv\",sep=\"\"),row.names=T)\n",
    "    uniq=na.omit(res)#删除无效基因\n",
    "    sort_uniq=uniq[order(uniq$pval),]#按照矫正p值排序\n",
    "    #写入排序后的all_data\n",
    "    #write.csv(res,file='c20_2vsNC_data.csv',row.names =F)\n",
    "    #标记上下调基因\n",
    "    sort_uniq$up_down=ifelse(sort_uniq$baseMeanA>sort_uniq$baseMeanB,'up','down')\n",
    "    #交换上下调基因列位置\n",
    "    #final_res=sort_uniq[,c(12,1:11)]\n",
    "    #final_res = sort_uniq\n",
    "    #写出最后数据\n",
    "    write.csv(sort_uniq,file=paste(sample1,\"_vs_\",sample2,\".final_annotated.csv\",sep=\"\"),row.names =F)\n",
    "    #然后挑选出padj值小于0.1的数据来做富集\n",
    "    tmp=select(org.Hs.eg.db, keys=sort_uniq[sort_uniq$padj<0.1,1], columns='ENTREZID', keytype='ENSEMBL')\n",
    "    diff_ENTREZID=tmp$ENTREZID\n",
    "    require(DOSE)\n",
    "    require(clusterProfiler)\n",
    "    diff_ENTREZID=na.omit(diff_ENTREZID)\n",
    "    ego <- enrichGO(gene=diff_ENTREZID,organism='human',ont='BP',pvalueCutoff=0.05,readable=TRUE)\n",
    "    #ekk <- enrichKEGG(gene=diff_ENTREZID, organism='human',pvalueCutoff=0.05,readable=TRUE)\n",
    "    #write.csv(summary(ekk),'KEGG-enrich.csv',row.names =F)\n",
    "    write.csv(summary(ego),'GO-enrich.csv',row.names =F)\n",
    "    return(c(ego,ekk))\n",
    "    }"
   ]
  },
  {
   "cell_type": "code",
   "execution_count": 41,
   "metadata": {
    "collapsed": false
   },
   "outputs": [
    {
     "name": "stderr",
     "output_type": "stream",
     "text": [
      "Warning message:\n",
      "In is.na(object): is.na()不适用于类别为'NULL'的非串列或非矢量"
     ]
    },
    {
     "ename": "ERROR",
     "evalue": "Error in provideDimnames(x, sep = sep, base = base): 'dimnames'只能用于陈列\n",
     "output_type": "error",
     "traceback": [
      "Error in provideDimnames(x, sep = sep, base = base): 'dimnames'只能用于陈列\n"
     ]
    }
   ],
   "source": [
    "results = annotation(res_sig_order2, 'C20_2','NC')"
   ]
  },
  {
   "cell_type": "code",
   "execution_count": 31,
   "metadata": {
    "collapsed": false
   },
   "outputs": [
    {
     "data": {
      "text/html": [
       "\n",
       "<table width=\"100%\" summary=\"page for enrichGO {clusterProfiler}\"><tr><td>enrichGO {clusterProfiler}</td><td style=\"text-align: right;\">R Documentation</td></tr></table>\n",
       "\n",
       "<h2>GO Enrichment Analysis of a gene set.\n",
       "Given a vector of genes, this function will return the enrichment GO\n",
       "categories after FDR control.</h2>\n",
       "\n",
       "<h3>Description</h3>\n",
       "\n",
       "<p>GO Enrichment Analysis of a gene set.\n",
       "Given a vector of genes, this function will return the enrichment GO\n",
       "categories after FDR control.\n",
       "</p>\n",
       "\n",
       "\n",
       "<h3>Usage</h3>\n",
       "\n",
       "<pre>\n",
       "enrichGO(gene, organism = \"human\", ont = \"MF\", pvalueCutoff = 0.05,\n",
       "  pAdjustMethod = \"BH\", universe, qvalueCutoff = 0.2, minGSSize = 5,\n",
       "  readable = FALSE)\n",
       "</pre>\n",
       "\n",
       "\n",
       "<h3>Arguments</h3>\n",
       "\n",
       "<table summary=\"R argblock\">\n",
       "<tr valign=\"top\"><td><code>gene</code></td>\n",
       "<td>\n",
       "<p>a vector of entrez gene id.</p>\n",
       "</td></tr>\n",
       "<tr valign=\"top\"><td><code>organism</code></td>\n",
       "<td>\n",
       "<p>One of &quot;anopheles&quot;, &quot;arabidopsis&quot;, &quot;bovine&quot;, &quot;canine&quot;, &quot;celegans&quot;,\n",
       "&quot;chicken&quot;, &quot;chimp&quot;, &quot;coelicolor&quot;, &quot;ecolik12&quot;,&quot;ecsakai&quot;, &quot;fly&quot;, &quot;gondii&quot;,&quot;human&quot;,\n",
       "&quot;malaria&quot;, &quot;mouse&quot;, &quot;pig&quot;, &quot;rat&quot;,&quot;rhesus&quot;, &quot;xenopus&quot;, &quot;yeast&quot; and\n",
       "&quot;zebrafish&quot;.</p>\n",
       "</td></tr>\n",
       "<tr valign=\"top\"><td><code>ont</code></td>\n",
       "<td>\n",
       "<p>One of &quot;MF&quot;, &quot;BP&quot;, and &quot;CC&quot; subontologies.</p>\n",
       "</td></tr>\n",
       "<tr valign=\"top\"><td><code>pvalueCutoff</code></td>\n",
       "<td>\n",
       "<p>Cutoff value of pvalue.</p>\n",
       "</td></tr>\n",
       "<tr valign=\"top\"><td><code>pAdjustMethod</code></td>\n",
       "<td>\n",
       "<p>one of &quot;holm&quot;, &quot;hochberg&quot;, &quot;hommel&quot;, &quot;bonferroni&quot;, &quot;BH&quot;, &quot;BY&quot;, &quot;fdr&quot;, &quot;none&quot;</p>\n",
       "</td></tr>\n",
       "<tr valign=\"top\"><td><code>universe</code></td>\n",
       "<td>\n",
       "<p>background genes</p>\n",
       "</td></tr>\n",
       "<tr valign=\"top\"><td><code>qvalueCutoff</code></td>\n",
       "<td>\n",
       "<p>qvalue cutoff</p>\n",
       "</td></tr>\n",
       "<tr valign=\"top\"><td><code>minGSSize</code></td>\n",
       "<td>\n",
       "<p>minimal size of genes annotated by Ontology term for testing.</p>\n",
       "</td></tr>\n",
       "<tr valign=\"top\"><td><code>readable</code></td>\n",
       "<td>\n",
       "<p>whether mapping gene ID to gene Name</p>\n",
       "</td></tr>\n",
       "</table>\n",
       "\n",
       "\n",
       "<h3>Value</h3>\n",
       "\n",
       "<p>A <code>enrichResult</code> instance.\n",
       "</p>\n",
       "\n",
       "\n",
       "<h3>Author(s)</h3>\n",
       "\n",
       "<p>Guangchuang Yu <a href=\"http://ygc.name\">http://ygc.name</a>\n",
       "</p>\n",
       "\n",
       "\n",
       "<h3>See Also</h3>\n",
       "\n",
       "<p><code>enrichResult-class</code>, <code>compareCluster</code>\n",
       "</p>\n",
       "\n",
       "\n",
       "<h3>Examples</h3>\n",
       "\n",
       "<pre>\n",
       "## Not run: \n",
       "\tdata(gcSample)\n",
       "\tyy &lt;- enrichGO(gcSample[[1]], organism=\"human\", ont=\"BP\", pvalueCutoff=0.01)\n",
       "\thead(summary(yy))\n",
       "\tplot(yy)\n",
       "\n",
       "## End(Not run)\n",
       "</pre>\n",
       "\n",
       "<hr /><div style=\"text-align: center;\">[Package <em>clusterProfiler</em> version 2.4.3 ]</div>"
      ],
      "text/latex": [
       "\\inputencoding{utf8}\n",
       "\\HeaderA{enrichGO}{GO Enrichment Analysis of a gene set. Given a vector of genes, this function will return the enrichment GO categories after FDR control.}{enrichGO}\n",
       "\\keyword{manip}{enrichGO}\n",
       "%\n",
       "\\begin{Description}\\relax\n",
       "GO Enrichment Analysis of a gene set.\n",
       "Given a vector of genes, this function will return the enrichment GO\n",
       "categories after FDR control.\n",
       "\\end{Description}\n",
       "%\n",
       "\\begin{Usage}\n",
       "\\begin{verbatim}\n",
       "enrichGO(gene, organism = \"human\", ont = \"MF\", pvalueCutoff = 0.05,\n",
       "  pAdjustMethod = \"BH\", universe, qvalueCutoff = 0.2, minGSSize = 5,\n",
       "  readable = FALSE)\n",
       "\\end{verbatim}\n",
       "\\end{Usage}\n",
       "%\n",
       "\\begin{Arguments}\n",
       "\\begin{ldescription}\n",
       "\\item[\\code{gene}] a vector of entrez gene id.\n",
       "\n",
       "\\item[\\code{organism}] One of \"anopheles\", \"arabidopsis\", \"bovine\", \"canine\", \"celegans\",\n",
       "\"chicken\", \"chimp\", \"coelicolor\", \"ecolik12\",\"ecsakai\", \"fly\", \"gondii\",\"human\",\n",
       "\"malaria\", \"mouse\", \"pig\", \"rat\",\"rhesus\", \"xenopus\", \"yeast\" and\n",
       "\"zebrafish\".\n",
       "\n",
       "\\item[\\code{ont}] One of \"MF\", \"BP\", and \"CC\" subontologies.\n",
       "\n",
       "\\item[\\code{pvalueCutoff}] Cutoff value of pvalue.\n",
       "\n",
       "\\item[\\code{pAdjustMethod}] one of \"holm\", \"hochberg\", \"hommel\", \"bonferroni\", \"BH\", \"BY\", \"fdr\", \"none\"\n",
       "\n",
       "\\item[\\code{universe}] background genes\n",
       "\n",
       "\\item[\\code{qvalueCutoff}] qvalue cutoff\n",
       "\n",
       "\\item[\\code{minGSSize}] minimal size of genes annotated by Ontology term for testing.\n",
       "\n",
       "\\item[\\code{readable}] whether mapping gene ID to gene Name\n",
       "\\end{ldescription}\n",
       "\\end{Arguments}\n",
       "%\n",
       "\\begin{Value}\n",
       "A \\code{enrichResult} instance.\n",
       "\\end{Value}\n",
       "%\n",
       "\\begin{Author}\\relax\n",
       "Guangchuang Yu \\url{http://ygc.name}\n",
       "\\end{Author}\n",
       "%\n",
       "\\begin{SeeAlso}\\relax\n",
       "\\code{\\LinkA{enrichResult-class}{enrichResult.Rdash.class}}, \\code{\\LinkA{compareCluster}{compareCluster}}\n",
       "\\end{SeeAlso}\n",
       "%\n",
       "\\begin{Examples}\n",
       "\\begin{ExampleCode}\n",
       "## Not run: \n",
       "\tdata(gcSample)\n",
       "\tyy <- enrichGO(gcSample[[1]], organism=\"human\", ont=\"BP\", pvalueCutoff=0.01)\n",
       "\thead(summary(yy))\n",
       "\tplot(yy)\n",
       "\n",
       "## End(Not run)\n",
       "\\end{ExampleCode}\n",
       "\\end{Examples}"
      ],
      "text/plain": [
       "enrichGO            package:clusterProfiler            R Documentation\n",
       "\n",
       "_\bG_\bO _\bE_\bn_\br_\bi_\bc_\bh_\bm_\be_\bn_\bt _\bA_\bn_\ba_\bl_\by_\bs_\bi_\bs _\bo_\bf _\ba _\bg_\be_\bn_\be _\bs_\be_\bt. _\bG_\bi_\bv_\be_\bn _\ba _\bv_\be_\bc_\bt_\bo_\br _\bo_\bf _\bg_\be_\bn_\be_\bs, _\bt_\bh_\bi_\bs\n",
       "_\bf_\bu_\bn_\bc_\bt_\bi_\bo_\bn _\bw_\bi_\bl_\bl _\br_\be_\bt_\bu_\br_\bn _\bt_\bh_\be _\be_\bn_\br_\bi_\bc_\bh_\bm_\be_\bn_\bt _\bG_\bO _\bc_\ba_\bt_\be_\bg_\bo_\br_\bi_\be_\bs _\ba_\bf_\bt_\be_\br _\bF_\bD_\bR _\bc_\bo_\bn_\bt_\br_\bo_\bl.\n",
       "\n",
       "_\bD_\be_\bs_\bc_\br_\bi_\bp_\bt_\bi_\bo_\bn:\n",
       "\n",
       "     GO Enrichment Analysis of a gene set. Given a vector of genes,\n",
       "     this function will return the enrichment GO categories after FDR\n",
       "     control.\n",
       "\n",
       "_\bU_\bs_\ba_\bg_\be:\n",
       "\n",
       "     enrichGO(gene, organism = \"human\", ont = \"MF\", pvalueCutoff = 0.05,\n",
       "       pAdjustMethod = \"BH\", universe, qvalueCutoff = 0.2, minGSSize = 5,\n",
       "       readable = FALSE)\n",
       "     \n",
       "_\bA_\br_\bg_\bu_\bm_\be_\bn_\bt_\bs:\n",
       "\n",
       "    gene: a vector of entrez gene id.\n",
       "\n",
       "organism: One of \"anopheles\", \"arabidopsis\", \"bovine\", \"canine\",\n",
       "          \"celegans\", \"chicken\", \"chimp\", \"coelicolor\",\n",
       "          \"ecolik12\",\"ecsakai\", \"fly\", \"gondii\",\"human\", \"malaria\",\n",
       "          \"mouse\", \"pig\", \"rat\",\"rhesus\", \"xenopus\", \"yeast\" and\n",
       "          \"zebrafish\".\n",
       "\n",
       "     ont: One of \"MF\", \"BP\", and \"CC\" subontologies.\n",
       "\n",
       "pvalueCutoff: Cutoff value of pvalue.\n",
       "\n",
       "pAdjustMethod: one of \"holm\", \"hochberg\", \"hommel\", \"bonferroni\", \"BH\",\n",
       "          \"BY\", \"fdr\", \"none\"\n",
       "\n",
       "universe: background genes\n",
       "\n",
       "qvalueCutoff: qvalue cutoff\n",
       "\n",
       "minGSSize: minimal size of genes annotated by Ontology term for\n",
       "          testing.\n",
       "\n",
       "readable: whether mapping gene ID to gene Name\n",
       "\n",
       "_\bV_\ba_\bl_\bu_\be:\n",
       "\n",
       "     A 'enrichResult' instance.\n",
       "\n",
       "_\bA_\bu_\bt_\bh_\bo_\br(_\bs):\n",
       "\n",
       "     Guangchuang Yu <URL: http://ygc.name>\n",
       "\n",
       "_\bS_\be_\be _\bA_\bl_\bs_\bo:\n",
       "\n",
       "     'enrichResult-class', 'compareCluster'\n",
       "\n",
       "_\bE_\bx_\ba_\bm_\bp_\bl_\be_\bs:\n",
       "\n",
       "     ## Not run:\n",
       "     \n",
       "             data(gcSample)\n",
       "             yy <- enrichGO(gcSample[[1]], organism=\"human\", ont=\"BP\", pvalueCutoff=0.01)\n",
       "             head(summary(yy))\n",
       "             plot(yy)\n",
       "     ## End(Not run)\n",
       "     "
      ]
     },
     "execution_count": 31,
     "metadata": {},
     "output_type": "execute_result"
    }
   ],
   "source": [
    "help(enrichGO)"
   ]
  },
  {
   "cell_type": "code",
   "execution_count": 42,
   "metadata": {
    "collapsed": false
   },
   "outputs": [
    {
     "name": "stderr",
     "output_type": "stream",
     "text": [
      "Warning message:\n",
      "In is.na(object): is.na()不适用于类别为'NULL'的非串列或非矢量"
     ]
    },
    {
     "ename": "ERROR",
     "evalue": "Error in provideDimnames(x, sep = sep, base = base): 'dimnames'只能用于陈列\n",
     "output_type": "error",
     "traceback": [
      "Error in provideDimnames(x, sep = sep, base = base): 'dimnames'只能用于陈列\n"
     ]
    }
   ],
   "source": [
    "    tmp=select(org.Hs.eg.db, keys=res_sig_order2$id, columns=c(\"ENTREZID\",\"SYMBOL\",\"GENENAME\"), keytype=\"ENSEMBL\")\n",
    "\n",
    "    res=merge(tmp,res_sig_order2,by.x='ENSEMBL',by.y='id',all=TRUE)\n",
    "    #go\n",
    "    tmp=select(org.Hs.eg.db, keys=res$ENSEMBL, columns='GO', keytype='ENSEMBL')\n",
    "    ensembl_go=unlist(tapply(tmp[,2],as.factor(tmp[,1]),function(x) paste(x,collapse ='|'),simplify =F))\n",
    "    #为res加入go注释，\n",
    "    res_sig_order2$go=ensembl_go[res$ENSEMBL]#为res加入一列go\n",
    "    #写入all——data\n",
    "    #all_res=res\n",
    "    #write.csv(res, file=paste(sample1,\"_vs_\",sample2,\".annotated.csv\",sep=\"\"),row.names=T)\n",
    "    uniq=na.omit(res_sig_order2)#删除无效基因\n",
    "    sort_uniq=uniq[order(uniq$pval),]#按照矫正p值排序\n",
    "    #写入排序后的all_data\n",
    "    #write.csv(res,file='c20_2vsNC_data.csv',row.names =F)\n",
    "    #标记上下调基因\n"
   ]
  },
  {
   "cell_type": "code",
   "execution_count": null,
   "metadata": {
    "collapsed": true
   },
   "outputs": [],
   "source": []
  }
 ],
 "metadata": {
  "kernelspec": {
   "display_name": "R",
   "language": "R",
   "name": "ir"
  },
  "language_info": {
   "codemirror_mode": "r",
   "file_extension": ".r",
   "mimetype": "text/x-r-source",
   "name": "R",
   "pygments_lexer": "r",
   "version": "3.2.4"
  }
 },
 "nbformat": 4,
 "nbformat_minor": 0
}
